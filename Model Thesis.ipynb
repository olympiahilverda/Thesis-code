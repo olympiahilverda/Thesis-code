{
 "cells": [
  {
   "cell_type": "code",
   "execution_count": 1,
   "metadata": {},
   "outputs": [],
   "source": [
    "import pandas as pd\n",
    "import numpy as np\n",
    "from sklearn.model_selection import train_test_split"
   ]
  },
  {
   "cell_type": "markdown",
   "metadata": {},
   "source": [
    "# Data Collection"
   ]
  },
  {
   "cell_type": "markdown",
   "metadata": {},
   "source": [
    "## Debarred Suppliers"
   ]
  },
  {
   "cell_type": "code",
   "execution_count": 2,
   "metadata": {},
   "outputs": [],
   "source": [
    "## Suppliers dataset\n",
    "\n",
    "WBSuppliers = pd.read_excel(\"WB_sanctioned_suppliers.xlsx\", header=1, encoding='utf8')"
   ]
  },
  {
   "cell_type": "code",
   "execution_count": 3,
   "metadata": {},
   "outputs": [
    {
     "data": {
      "text/plain": [
       "Index(['Firm Name', 'Additional Firm Info', 'Address', 'Country',\n",
       "       'Ineligibility Period', 'Unnamed: 5', 'Grounds'],\n",
       "      dtype='object')"
      ]
     },
     "execution_count": 3,
     "metadata": {},
     "output_type": "execute_result"
    }
   ],
   "source": [
    "WBSuppliers.columns"
   ]
  },
  {
   "cell_type": "code",
   "execution_count": 4,
   "metadata": {},
   "outputs": [
    {
     "data": {
      "text/plain": [
       "Index(['Firm Name', 'Additional Firm Info', 'Address', 'Country',\n",
       "       'Ineligibility Period: From Date', 'To Date', 'Grounds'],\n",
       "      dtype='object')"
      ]
     },
     "execution_count": 4,
     "metadata": {},
     "output_type": "execute_result"
    }
   ],
   "source": [
    "# Rename columns \n",
    "WBSuppliers.rename(columns={'Ineligibility Period': 'Ineligibility Period: From Date', 'Unnamed: 5': 'To Date'}, inplace=True)\n",
    "WBSuppliers.columns"
   ]
  },
  {
   "cell_type": "code",
   "execution_count": 5,
   "metadata": {},
   "outputs": [],
   "source": [
    "# Remove 1st row\n",
    "WBSuppliers = WBSuppliers.iloc[1:]"
   ]
  },
  {
   "cell_type": "code",
   "execution_count": 6,
   "metadata": {},
   "outputs": [
    {
     "data": {
      "text/plain": [
       "1154"
      ]
     },
     "execution_count": 6,
     "metadata": {},
     "output_type": "execute_result"
    }
   ],
   "source": [
    "# Has 1154 unique suppliers \n",
    "WBSuppliers['Firm Name'].nunique()"
   ]
  },
  {
   "cell_type": "markdown",
   "metadata": {},
   "source": [
    "## World Bank"
   ]
  },
  {
   "cell_type": "code",
   "execution_count": 7,
   "metadata": {},
   "outputs": [],
   "source": [
    "# Open and read World Bank Data \n",
    "WBContracts = pd.read_csv(\"WB_contracts_2000-2021.csv\")"
   ]
  },
  {
   "cell_type": "code",
   "execution_count": 8,
   "metadata": {},
   "outputs": [
    {
     "data": {
      "text/html": [
       "<div>\n",
       "<style scoped>\n",
       "    .dataframe tbody tr th:only-of-type {\n",
       "        vertical-align: middle;\n",
       "    }\n",
       "\n",
       "    .dataframe tbody tr th {\n",
       "        vertical-align: top;\n",
       "    }\n",
       "\n",
       "    .dataframe thead th {\n",
       "        text-align: right;\n",
       "    }\n",
       "</style>\n",
       "<table border=\"1\" class=\"dataframe\">\n",
       "  <thead>\n",
       "    <tr style=\"text-align: right;\">\n",
       "      <th></th>\n",
       "      <th>As of Date</th>\n",
       "      <th>Fiscal Year</th>\n",
       "      <th>Region</th>\n",
       "      <th>Borrower Country</th>\n",
       "      <th>Borrower Country Code</th>\n",
       "      <th>Project ID</th>\n",
       "      <th>Project Name</th>\n",
       "      <th>Procurement Type</th>\n",
       "      <th>Procurement Category</th>\n",
       "      <th>Procurement Method</th>\n",
       "      <th>...</th>\n",
       "      <th>Major Sector</th>\n",
       "      <th>WB Contract Number</th>\n",
       "      <th>Contract Description</th>\n",
       "      <th>Contract Signing Date</th>\n",
       "      <th>Supplier</th>\n",
       "      <th>Supplier Country</th>\n",
       "      <th>Supplier Country Code</th>\n",
       "      <th>Supplier State</th>\n",
       "      <th>Total Contract Amount (USD)</th>\n",
       "      <th>Borrower Contract Reference Number</th>\n",
       "    </tr>\n",
       "  </thead>\n",
       "  <tbody>\n",
       "    <tr>\n",
       "      <th>0</th>\n",
       "      <td>09/09/2020 12:00:00 AM</td>\n",
       "      <td>2000</td>\n",
       "      <td>AFE</td>\n",
       "      <td>Angola</td>\n",
       "      <td>AO</td>\n",
       "      <td>P000044</td>\n",
       "      <td>FINANCIAL INSTITUTIO</td>\n",
       "      <td>Implementation Activity</td>\n",
       "      <td>CONSULTANT SERVICES</td>\n",
       "      <td>Quality And Cost-Based Selection</td>\n",
       "      <td>...</td>\n",
       "      <td>Financial Sector</td>\n",
       "      <td>1207736</td>\n",
       "      <td>OIL SECTOR STUDY - CONTRCT WITH KPMG</td>\n",
       "      <td>11/20/2000 12:00:00 AM</td>\n",
       "      <td>KPMG INTERNATIONAL</td>\n",
       "      <td>United Kingdom</td>\n",
       "      <td>GB</td>\n",
       "      <td>Not assigned</td>\n",
       "      <td>800000.00</td>\n",
       "      <td>KPMG - 11/20/2000</td>\n",
       "    </tr>\n",
       "    <tr>\n",
       "      <th>1</th>\n",
       "      <td>09/09/2020 12:00:00 AM</td>\n",
       "      <td>2000</td>\n",
       "      <td>AFE</td>\n",
       "      <td>Angola</td>\n",
       "      <td>AO</td>\n",
       "      <td>P000044</td>\n",
       "      <td>FINANCIAL INSTITUTIO</td>\n",
       "      <td>Implementation Activity</td>\n",
       "      <td>CONSULTANT SERVICES</td>\n",
       "      <td>Quality And Cost-Based Selection</td>\n",
       "      <td>...</td>\n",
       "      <td>Public Admin</td>\n",
       "      <td>1207736</td>\n",
       "      <td>OIL SECTOR STUDY - CONTRCT WITH KPMG</td>\n",
       "      <td>11/20/2000 12:00:00 AM</td>\n",
       "      <td>KPMG INTERNATIONAL</td>\n",
       "      <td>United Kingdom</td>\n",
       "      <td>GB</td>\n",
       "      <td>Not assigned</td>\n",
       "      <td>800000.00</td>\n",
       "      <td>KPMG - 11/20/2000</td>\n",
       "    </tr>\n",
       "    <tr>\n",
       "      <th>2</th>\n",
       "      <td>09/09/2020 12:00:00 AM</td>\n",
       "      <td>2000</td>\n",
       "      <td>AFE</td>\n",
       "      <td>Madagascar</td>\n",
       "      <td>MG</td>\n",
       "      <td>P052186</td>\n",
       "      <td>MG-Microfinance</td>\n",
       "      <td>Implementation Activity</td>\n",
       "      <td>CONSULTANT SERVICES</td>\n",
       "      <td>Quality And Cost-Based Selection</td>\n",
       "      <td>...</td>\n",
       "      <td>Financial Sector</td>\n",
       "      <td>1116602</td>\n",
       "      <td>APPUI AU DEVELOPPEMENT DU RESEAU OTIV (TOAMASINA)</td>\n",
       "      <td>09/17/1999 12:00:00 AM</td>\n",
       "      <td>DEVELOPMENT INTERNA.DESJARDINS</td>\n",
       "      <td>Canada</td>\n",
       "      <td>CA</td>\n",
       "      <td>Not assigned</td>\n",
       "      <td>1964921.66</td>\n",
       "      <td>1/01/10/99/AGEPMF/DID</td>\n",
       "    </tr>\n",
       "  </tbody>\n",
       "</table>\n",
       "<p>3 rows × 21 columns</p>\n",
       "</div>"
      ],
      "text/plain": [
       "               As of Date  Fiscal Year Region Borrower Country  \\\n",
       "0  09/09/2020 12:00:00 AM         2000    AFE           Angola   \n",
       "1  09/09/2020 12:00:00 AM         2000    AFE           Angola   \n",
       "2  09/09/2020 12:00:00 AM         2000    AFE       Madagascar   \n",
       "\n",
       "  Borrower Country Code Project ID          Project Name  \\\n",
       "0                    AO    P000044  FINANCIAL INSTITUTIO   \n",
       "1                    AO    P000044  FINANCIAL INSTITUTIO   \n",
       "2                    MG    P052186       MG-Microfinance   \n",
       "\n",
       "          Procurement Type Procurement Category  \\\n",
       "0  Implementation Activity  CONSULTANT SERVICES   \n",
       "1  Implementation Activity  CONSULTANT SERVICES   \n",
       "2  Implementation Activity  CONSULTANT SERVICES   \n",
       "\n",
       "                 Procurement Method  ...      Major Sector WB Contract Number  \\\n",
       "0  Quality And Cost-Based Selection  ...  Financial Sector            1207736   \n",
       "1  Quality And Cost-Based Selection  ...      Public Admin            1207736   \n",
       "2  Quality And Cost-Based Selection  ...  Financial Sector            1116602   \n",
       "\n",
       "                                Contract Description   Contract Signing Date  \\\n",
       "0               OIL SECTOR STUDY - CONTRCT WITH KPMG  11/20/2000 12:00:00 AM   \n",
       "1               OIL SECTOR STUDY - CONTRCT WITH KPMG  11/20/2000 12:00:00 AM   \n",
       "2  APPUI AU DEVELOPPEMENT DU RESEAU OTIV (TOAMASINA)  09/17/1999 12:00:00 AM   \n",
       "\n",
       "                         Supplier Supplier Country Supplier Country Code  \\\n",
       "0              KPMG INTERNATIONAL   United Kingdom                    GB   \n",
       "1              KPMG INTERNATIONAL   United Kingdom                    GB   \n",
       "2  DEVELOPMENT INTERNA.DESJARDINS           Canada                    CA   \n",
       "\n",
       "  Supplier State Total Contract Amount (USD)  \\\n",
       "0   Not assigned                   800000.00   \n",
       "1   Not assigned                   800000.00   \n",
       "2   Not assigned                  1964921.66   \n",
       "\n",
       "   Borrower Contract Reference Number  \n",
       "0                   KPMG - 11/20/2000  \n",
       "1                   KPMG - 11/20/2000  \n",
       "2               1/01/10/99/AGEPMF/DID  \n",
       "\n",
       "[3 rows x 21 columns]"
      ]
     },
     "execution_count": 8,
     "metadata": {},
     "output_type": "execute_result"
    }
   ],
   "source": [
    "WBContracts.head(3)"
   ]
  },
  {
   "cell_type": "code",
   "execution_count": 9,
   "metadata": {},
   "outputs": [
    {
     "data": {
      "text/plain": [
       "22"
      ]
     },
     "execution_count": 9,
     "metadata": {},
     "output_type": "execute_result"
    }
   ],
   "source": [
    "# Dataset from 2000 to 2021 (fiscal year)\n",
    "\n",
    "WBContracts['Fiscal Year'].nunique()"
   ]
  },
  {
   "cell_type": "code",
   "execution_count": 10,
   "metadata": {},
   "outputs": [
    {
     "data": {
      "text/plain": [
       "172424"
      ]
     },
     "execution_count": 10,
     "metadata": {},
     "output_type": "execute_result"
    }
   ],
   "source": [
    "WBContracts['WB Contract Number'].nunique()"
   ]
  },
  {
   "cell_type": "code",
   "execution_count": 11,
   "metadata": {},
   "outputs": [],
   "source": [
    "# Make sure there are no duplicates and I only have unique contract numbers\n",
    "WBContracts = WBContracts.drop_duplicates('WB Contract Number', keep='first')"
   ]
  },
  {
   "cell_type": "code",
   "execution_count": 12,
   "metadata": {},
   "outputs": [
    {
     "data": {
      "text/plain": [
       "Index(['As of Date', 'Fiscal Year', 'Region', 'Borrower Country',\n",
       "       'Borrower Country Code', 'Project ID', 'Project Name',\n",
       "       'Procurement Type', 'Procurement Category', 'Procurement Method',\n",
       "       'Product line', 'Major Sector', 'WB Contract Number',\n",
       "       'Contract Description', 'Contract Signing Date', 'Supplier',\n",
       "       'Supplier Country', 'Supplier Country Code', 'Supplier State',\n",
       "       'Total Contract Amount (USD)', 'Borrower Contract Reference Number'],\n",
       "      dtype='object')"
      ]
     },
     "execution_count": 12,
     "metadata": {},
     "output_type": "execute_result"
    }
   ],
   "source": [
    "WBContracts.columns"
   ]
  },
  {
   "cell_type": "code",
   "execution_count": 13,
   "metadata": {},
   "outputs": [
    {
     "data": {
      "text/plain": [
       "0    172099\n",
       "1       325\n",
       "Name: Match, dtype: int64"
      ]
     },
     "execution_count": 13,
     "metadata": {},
     "output_type": "execute_result"
    }
   ],
   "source": [
    "## Let us now check if Firm Name matches Supplier in the contracts dataset \n",
    "# In other words, which sanctioned firms or individuals can be found in the Contracts dataset\n",
    "\n",
    "WBContracts['Supplier'] = WBContracts['Supplier'].astype(str)\n",
    "WBContracts['Match'] = np.where((WBContracts['Supplier'].isin(WBSuppliers['Firm Name'])), 1, 0)\n",
    "WBContracts['Match'].value_counts()"
   ]
  },
  {
   "cell_type": "code",
   "execution_count": 14,
   "metadata": {},
   "outputs": [
    {
     "data": {
      "text/plain": [
       "85087"
      ]
     },
     "execution_count": 14,
     "metadata": {},
     "output_type": "execute_result"
    }
   ],
   "source": [
    "WBContracts['Supplier'].nunique()"
   ]
  },
  {
   "cell_type": "code",
   "execution_count": 15,
   "metadata": {},
   "outputs": [],
   "source": [
    "corruption_rows = WBContracts.loc[WBContracts['Match'] == 1]"
   ]
  },
  {
   "cell_type": "code",
   "execution_count": 16,
   "metadata": {},
   "outputs": [
    {
     "data": {
      "text/plain": [
       "72"
      ]
     },
     "execution_count": 16,
     "metadata": {},
     "output_type": "execute_result"
    }
   ],
   "source": [
    "corruption_rows['Supplier'].nunique()"
   ]
  },
  {
   "cell_type": "markdown",
   "metadata": {},
   "source": [
    "## African Development Bank"
   ]
  },
  {
   "cell_type": "code",
   "execution_count": 17,
   "metadata": {},
   "outputs": [],
   "source": [
    "## We first take years 2013-2018"
   ]
  },
  {
   "cell_type": "code",
   "execution_count": 18,
   "metadata": {},
   "outputs": [
    {
     "data": {
      "text/html": [
       "<div>\n",
       "<style scoped>\n",
       "    .dataframe tbody tr th:only-of-type {\n",
       "        vertical-align: middle;\n",
       "    }\n",
       "\n",
       "    .dataframe tbody tr th {\n",
       "        vertical-align: top;\n",
       "    }\n",
       "\n",
       "    .dataframe thead th {\n",
       "        text-align: right;\n",
       "    }\n",
       "</style>\n",
       "<table border=\"1\" class=\"dataframe\">\n",
       "  <thead>\n",
       "    <tr style=\"text-align: right;\">\n",
       "      <th></th>\n",
       "      <th>Year</th>\n",
       "      <th>Project Def.</th>\n",
       "      <th>Project name</th>\n",
       "      <th>Sector</th>\n",
       "      <th>Bidder code</th>\n",
       "      <th>Bidder Name</th>\n",
       "      <th>Bidder Nationality</th>\n",
       "      <th>Expense category</th>\n",
       "      <th>Contract title</th>\n",
       "      <th>Proc. mode</th>\n",
       "      <th>Project Country</th>\n",
       "      <th>Contr.No.</th>\n",
       "      <th>Tender num</th>\n",
       "      <th>Loan Number</th>\n",
       "      <th>Cont. Am. (UAC)</th>\n",
       "      <th>Equiv. (USD)</th>\n",
       "      <th>Unnamed: 16</th>\n",
       "      <th>Unnamed: 17</th>\n",
       "      <th>Unnamed: 18</th>\n",
       "      <th>Unnamed: 19</th>\n",
       "    </tr>\n",
       "  </thead>\n",
       "  <tbody>\n",
       "    <tr>\n",
       "      <th>0</th>\n",
       "      <td>2016</td>\n",
       "      <td>P-AO-CZ0-001</td>\n",
       "      <td>ENVIRONMENTAL SECTOR SUPPORT PROJECT</td>\n",
       "      <td>Environment</td>\n",
       "      <td>9900034215</td>\n",
       "      <td>MANUEL NUNES BARATA</td>\n",
       "      <td>Angola</td>\n",
       "      <td>SERVICES</td>\n",
       "      <td>Contrat administratif de Manuel Nunes</td>\n",
       "      <td>DNP</td>\n",
       "      <td>Angola</td>\n",
       "      <td>5000046069</td>\n",
       "      <td>38942</td>\n",
       "      <td>2100150019543</td>\n",
       "      <td>8668.39</td>\n",
       "      <td>12012.048075</td>\n",
       "      <td>NaN</td>\n",
       "      <td>NaN</td>\n",
       "      <td>NaN</td>\n",
       "      <td>NaN</td>\n",
       "    </tr>\n",
       "    <tr>\n",
       "      <th>1</th>\n",
       "      <td>2016</td>\n",
       "      <td>P-LS-IA0-002</td>\n",
       "      <td>EDUC. QUAL. ENHANCEMENT PROJ.(EDU III)</td>\n",
       "      <td>Social</td>\n",
       "      <td>9900021206</td>\n",
       "      <td>GR STATIONERS (PTY) LTD</td>\n",
       "      <td>Lesotho</td>\n",
       "      <td>GOODS</td>\n",
       "      <td>EDUCATION QUALITY ENHANCEMENT PROJECT</td>\n",
       "      <td>NCB</td>\n",
       "      <td>Lesotho</td>\n",
       "      <td>5000046077</td>\n",
       "      <td>38950</td>\n",
       "      <td>2100155009316</td>\n",
       "      <td>57026.31</td>\n",
       "      <td>79023.068556</td>\n",
       "      <td>NaN</td>\n",
       "      <td>Rates used for conversion</td>\n",
       "      <td>NaN</td>\n",
       "      <td>NaN</td>\n",
       "    </tr>\n",
       "  </tbody>\n",
       "</table>\n",
       "</div>"
      ],
      "text/plain": [
       "   Year  Project Def.                            Project name       Sector  \\\n",
       "0  2016  P-AO-CZ0-001    ENVIRONMENTAL SECTOR SUPPORT PROJECT  Environment   \n",
       "1  2016  P-LS-IA0-002  EDUC. QUAL. ENHANCEMENT PROJ.(EDU III)       Social   \n",
       "\n",
       "   Bidder code              Bidder Name Bidder Nationality Expense category  \\\n",
       "0   9900034215      MANUEL NUNES BARATA             Angola         SERVICES   \n",
       "1   9900021206  GR STATIONERS (PTY) LTD            Lesotho            GOODS   \n",
       "\n",
       "                          Contract title Proc. mode Project Country  \\\n",
       "0  Contrat administratif de Manuel Nunes        DNP          Angola   \n",
       "1  EDUCATION QUALITY ENHANCEMENT PROJECT        NCB         Lesotho   \n",
       "\n",
       "    Contr.No.  Tender num    Loan Number  Cont. Am. (UAC)  Equiv. (USD)  \\\n",
       "0  5000046069       38942  2100150019543          8668.39  12012.048075   \n",
       "1  5000046077       38950  2100155009316         57026.31  79023.068556   \n",
       "\n",
       "   Unnamed: 16                Unnamed: 17 Unnamed: 18 Unnamed: 19  \n",
       "0          NaN                        NaN         NaN         NaN  \n",
       "1          NaN  Rates used for conversion         NaN         NaN  "
      ]
     },
     "execution_count": 18,
     "metadata": {},
     "output_type": "execute_result"
    }
   ],
   "source": [
    "AfDBContracts1 = pd.read_excel(\"AfDB_contracts_2013-2018.xlsx\", header=2)\n",
    "AfDBContracts1.head(2)"
   ]
  },
  {
   "cell_type": "code",
   "execution_count": 19,
   "metadata": {},
   "outputs": [
    {
     "data": {
      "text/plain": [
       "6"
      ]
     },
     "execution_count": 19,
     "metadata": {},
     "output_type": "execute_result"
    }
   ],
   "source": [
    "AfDBContracts1['Year'].nunique()\n",
    "## includes 2018"
   ]
  },
  {
   "cell_type": "code",
   "execution_count": 20,
   "metadata": {},
   "outputs": [
    {
     "data": {
      "text/plain": [
       "Index(['Year', 'Project Def.', 'Project name', 'Sector', 'Bidder code',\n",
       "       'Bidder Name', 'Bidder Nationality', 'Expense category',\n",
       "       'Contract title', 'Proc. mode', 'Project Country', 'Contr.No.',\n",
       "       'Tender num', 'Loan Number', 'Cont. Am. (UAC)', 'Equiv. (USD)',\n",
       "       'Unnamed: 16', 'Unnamed: 17', 'Unnamed: 18', 'Unnamed: 19'],\n",
       "      dtype='object')"
      ]
     },
     "execution_count": 20,
     "metadata": {},
     "output_type": "execute_result"
    }
   ],
   "source": [
    "AfDBContracts1.columns\n",
    "## Here Bidder Name could be interesting to look at "
   ]
  },
  {
   "cell_type": "code",
   "execution_count": 21,
   "metadata": {},
   "outputs": [],
   "source": [
    "AfDBContracts1 = AfDBContracts1.drop(columns=['Unnamed: 16', 'Unnamed: 17', 'Unnamed: 18', 'Unnamed: 19'])"
   ]
  },
  {
   "cell_type": "code",
   "execution_count": 22,
   "metadata": {},
   "outputs": [],
   "source": [
    "# Timestamp 2015-2020 for extracting years 2019 and 2020\n",
    "AfDBContracts2 = pd.read_excel(\"AfDB_contracts_2015-2020.xlsx\", header=2)"
   ]
  },
  {
   "cell_type": "code",
   "execution_count": 23,
   "metadata": {},
   "outputs": [],
   "source": [
    "# Delete columns (right side of the excel)\n",
    "AfDBContracts2 = AfDBContracts2.drop(columns=['Unnamed: 16', 'Unnamed: 17', 'Unnamed: 18', 'Unnamed: 19'])"
   ]
  },
  {
   "cell_type": "code",
   "execution_count": 24,
   "metadata": {},
   "outputs": [
    {
     "data": {
      "text/plain": [
       "2"
      ]
     },
     "execution_count": 24,
     "metadata": {},
     "output_type": "execute_result"
    }
   ],
   "source": [
    "## We only take years 2015-2020\n",
    "years = [2019, 2020]\n",
    "AfDBContracts2_years= AfDBContracts2[AfDBContracts2['Year'].isin(years)]\n",
    "AfDBContracts2_years['Year'].nunique()"
   ]
  },
  {
   "cell_type": "code",
   "execution_count": 25,
   "metadata": {},
   "outputs": [],
   "source": [
    "## Now we append the two datasets together \n",
    "AfDBContracts = pd.concat([AfDBContracts1, AfDBContracts2_years])"
   ]
  },
  {
   "cell_type": "code",
   "execution_count": 26,
   "metadata": {},
   "outputs": [
    {
     "data": {
      "text/html": [
       "<div>\n",
       "<style scoped>\n",
       "    .dataframe tbody tr th:only-of-type {\n",
       "        vertical-align: middle;\n",
       "    }\n",
       "\n",
       "    .dataframe tbody tr th {\n",
       "        vertical-align: top;\n",
       "    }\n",
       "\n",
       "    .dataframe thead th {\n",
       "        text-align: right;\n",
       "    }\n",
       "</style>\n",
       "<table border=\"1\" class=\"dataframe\">\n",
       "  <thead>\n",
       "    <tr style=\"text-align: right;\">\n",
       "      <th></th>\n",
       "      <th>Year</th>\n",
       "      <th>Project Def.</th>\n",
       "      <th>Project name</th>\n",
       "      <th>Sector</th>\n",
       "      <th>Bidder code</th>\n",
       "      <th>Bidder Name</th>\n",
       "      <th>Bidder Nationality</th>\n",
       "      <th>Expense category</th>\n",
       "      <th>Contract title</th>\n",
       "      <th>Proc. mode</th>\n",
       "      <th>Project Country</th>\n",
       "      <th>Contr.No.</th>\n",
       "      <th>Tender num</th>\n",
       "      <th>Loan Number</th>\n",
       "      <th>Cont. Am. (UAC)</th>\n",
       "      <th>Equiv. (USD)</th>\n",
       "    </tr>\n",
       "  </thead>\n",
       "  <tbody>\n",
       "    <tr>\n",
       "      <th>0</th>\n",
       "      <td>2016</td>\n",
       "      <td>P-AO-CZ0-001</td>\n",
       "      <td>ENVIRONMENTAL SECTOR SUPPORT PROJECT</td>\n",
       "      <td>Environment</td>\n",
       "      <td>9900034215</td>\n",
       "      <td>MANUEL NUNES BARATA</td>\n",
       "      <td>Angola</td>\n",
       "      <td>SERVICES</td>\n",
       "      <td>Contrat administratif de Manuel Nunes</td>\n",
       "      <td>DNP</td>\n",
       "      <td>Angola</td>\n",
       "      <td>5000046069</td>\n",
       "      <td>38942</td>\n",
       "      <td>2100150019543</td>\n",
       "      <td>8668.39</td>\n",
       "      <td>12012.048075</td>\n",
       "    </tr>\n",
       "    <tr>\n",
       "      <th>1</th>\n",
       "      <td>2016</td>\n",
       "      <td>P-LS-IA0-002</td>\n",
       "      <td>EDUC. QUAL. ENHANCEMENT PROJ.(EDU III)</td>\n",
       "      <td>Social</td>\n",
       "      <td>9900021206</td>\n",
       "      <td>GR STATIONERS (PTY) LTD</td>\n",
       "      <td>Lesotho</td>\n",
       "      <td>GOODS</td>\n",
       "      <td>EDUCATION QUALITY ENHANCEMENT PROJECT</td>\n",
       "      <td>NCB</td>\n",
       "      <td>Lesotho</td>\n",
       "      <td>5000046077</td>\n",
       "      <td>38950</td>\n",
       "      <td>2100155009316</td>\n",
       "      <td>57026.31</td>\n",
       "      <td>79023.068556</td>\n",
       "    </tr>\n",
       "  </tbody>\n",
       "</table>\n",
       "</div>"
      ],
      "text/plain": [
       "   Year  Project Def.                            Project name       Sector  \\\n",
       "0  2016  P-AO-CZ0-001    ENVIRONMENTAL SECTOR SUPPORT PROJECT  Environment   \n",
       "1  2016  P-LS-IA0-002  EDUC. QUAL. ENHANCEMENT PROJ.(EDU III)       Social   \n",
       "\n",
       "   Bidder code              Bidder Name Bidder Nationality Expense category  \\\n",
       "0   9900034215      MANUEL NUNES BARATA             Angola         SERVICES   \n",
       "1   9900021206  GR STATIONERS (PTY) LTD            Lesotho            GOODS   \n",
       "\n",
       "                          Contract title Proc. mode Project Country  \\\n",
       "0  Contrat administratif de Manuel Nunes        DNP          Angola   \n",
       "1  EDUCATION QUALITY ENHANCEMENT PROJECT        NCB         Lesotho   \n",
       "\n",
       "    Contr.No.  Tender num    Loan Number  Cont. Am. (UAC)  Equiv. (USD)  \n",
       "0  5000046069       38942  2100150019543          8668.39  12012.048075  \n",
       "1  5000046077       38950  2100155009316         57026.31  79023.068556  "
      ]
     },
     "execution_count": 26,
     "metadata": {},
     "output_type": "execute_result"
    }
   ],
   "source": [
    "## this is the final dataset\n",
    "AfDBContracts.head(2)"
   ]
  },
  {
   "cell_type": "code",
   "execution_count": 27,
   "metadata": {},
   "outputs": [
    {
     "data": {
      "text/plain": [
       "8"
      ]
     },
     "execution_count": 27,
     "metadata": {},
     "output_type": "execute_result"
    }
   ],
   "source": [
    "## Final dataset [2013-2020]\n",
    "AfDBContracts['Year'].nunique()"
   ]
  },
  {
   "cell_type": "code",
   "execution_count": 28,
   "metadata": {
    "scrolled": true
   },
   "outputs": [
    {
     "data": {
      "text/plain": [
       "18176"
      ]
     },
     "execution_count": 28,
     "metadata": {},
     "output_type": "execute_result"
    }
   ],
   "source": [
    "AfDBContracts['Contr.No.'].nunique()"
   ]
  },
  {
   "cell_type": "code",
   "execution_count": 29,
   "metadata": {},
   "outputs": [],
   "source": [
    "## The WB and the AfDB do not use the same format for referring to suppliers\n",
    "    # example: AfDB uses lowercase and uppercase, WB uses only uppercase \n",
    "    \n",
    "## To try and get more matches we will apply the same cleaning to both columns \n",
    "\n",
    "## Make everyhting lowercase\n",
    "\n",
    "AfDBContracts['Bidder Name'] = AfDBContracts['Bidder Name'].astype(str)\n",
    "AfDBContracts['Bidder Name'] = AfDBContracts['Bidder Name'].apply(lambda x: x.lower())\n",
    "\n",
    "WBSuppliers['Firm Name'] = WBSuppliers['Firm Name'].astype(str)\n",
    "WBSuppliers['Firm Name'] = WBSuppliers['Firm Name'].apply(lambda x: x.lower())"
   ]
  },
  {
   "cell_type": "code",
   "execution_count": 31,
   "metadata": {},
   "outputs": [],
   "source": [
    "## Remove punctuation\n",
    "\n",
    "import string\n",
    "table = str.maketrans(dict.fromkeys(string.punctuation))\n",
    "\n",
    "def remove_punctuation(text):\n",
    "      return text.translate(table)\n",
    "\n",
    "AfDBContracts['Bidder Name'] = AfDBContracts['Bidder Name'].apply(remove_punctuation)\n",
    "WBSuppliers['Firm Name'] = WBSuppliers['Firm Name'].apply(remove_punctuation)"
   ]
  },
  {
   "cell_type": "code",
   "execution_count": 32,
   "metadata": {},
   "outputs": [
    {
     "data": {
      "text/html": [
       "<div>\n",
       "<style scoped>\n",
       "    .dataframe tbody tr th:only-of-type {\n",
       "        vertical-align: middle;\n",
       "    }\n",
       "\n",
       "    .dataframe tbody tr th {\n",
       "        vertical-align: top;\n",
       "    }\n",
       "\n",
       "    .dataframe thead th {\n",
       "        text-align: right;\n",
       "    }\n",
       "</style>\n",
       "<table border=\"1\" class=\"dataframe\">\n",
       "  <thead>\n",
       "    <tr style=\"text-align: right;\">\n",
       "      <th></th>\n",
       "      <th>Year</th>\n",
       "      <th>Project Def.</th>\n",
       "      <th>Project name</th>\n",
       "      <th>Sector</th>\n",
       "      <th>Bidder code</th>\n",
       "      <th>Bidder Name</th>\n",
       "      <th>Bidder Nationality</th>\n",
       "      <th>Expense category</th>\n",
       "      <th>Contract title</th>\n",
       "      <th>Proc. mode</th>\n",
       "      <th>Project Country</th>\n",
       "      <th>Contr.No.</th>\n",
       "      <th>Tender num</th>\n",
       "      <th>Loan Number</th>\n",
       "      <th>Cont. Am. (UAC)</th>\n",
       "      <th>Equiv. (USD)</th>\n",
       "    </tr>\n",
       "  </thead>\n",
       "  <tbody>\n",
       "    <tr>\n",
       "      <th>0</th>\n",
       "      <td>2016</td>\n",
       "      <td>P-AO-CZ0-001</td>\n",
       "      <td>ENVIRONMENTAL SECTOR SUPPORT PROJECT</td>\n",
       "      <td>Environment</td>\n",
       "      <td>9900034215</td>\n",
       "      <td>manuel nunes barata</td>\n",
       "      <td>Angola</td>\n",
       "      <td>SERVICES</td>\n",
       "      <td>Contrat administratif de Manuel Nunes</td>\n",
       "      <td>DNP</td>\n",
       "      <td>Angola</td>\n",
       "      <td>5000046069</td>\n",
       "      <td>38942</td>\n",
       "      <td>2100150019543</td>\n",
       "      <td>8668.39</td>\n",
       "      <td>12012.048075</td>\n",
       "    </tr>\n",
       "    <tr>\n",
       "      <th>1</th>\n",
       "      <td>2016</td>\n",
       "      <td>P-LS-IA0-002</td>\n",
       "      <td>EDUC. QUAL. ENHANCEMENT PROJ.(EDU III)</td>\n",
       "      <td>Social</td>\n",
       "      <td>9900021206</td>\n",
       "      <td>gr stationers pty ltd</td>\n",
       "      <td>Lesotho</td>\n",
       "      <td>GOODS</td>\n",
       "      <td>EDUCATION QUALITY ENHANCEMENT PROJECT</td>\n",
       "      <td>NCB</td>\n",
       "      <td>Lesotho</td>\n",
       "      <td>5000046077</td>\n",
       "      <td>38950</td>\n",
       "      <td>2100155009316</td>\n",
       "      <td>57026.31</td>\n",
       "      <td>79023.068556</td>\n",
       "    </tr>\n",
       "    <tr>\n",
       "      <th>2</th>\n",
       "      <td>2016</td>\n",
       "      <td>P-MA-KA0-003</td>\n",
       "      <td>APPUI À LA MISE EN PLACE ET L’OPERATIONN</td>\n",
       "      <td>Multi-Sector</td>\n",
       "      <td>9900041716</td>\n",
       "      <td>majestic tour</td>\n",
       "      <td>Morocco</td>\n",
       "      <td>SERVICES</td>\n",
       "      <td>TRANSPORT SEMINAIRE 1</td>\n",
       "      <td>NSH</td>\n",
       "      <td>Morocco</td>\n",
       "      <td>5000046098</td>\n",
       "      <td>38973</td>\n",
       "      <td>5500155009102</td>\n",
       "      <td>667.80</td>\n",
       "      <td>925.390494</td>\n",
       "    </tr>\n",
       "  </tbody>\n",
       "</table>\n",
       "</div>"
      ],
      "text/plain": [
       "   Year  Project Def.                              Project name        Sector  \\\n",
       "0  2016  P-AO-CZ0-001      ENVIRONMENTAL SECTOR SUPPORT PROJECT   Environment   \n",
       "1  2016  P-LS-IA0-002    EDUC. QUAL. ENHANCEMENT PROJ.(EDU III)        Social   \n",
       "2  2016  P-MA-KA0-003  APPUI À LA MISE EN PLACE ET L’OPERATIONN  Multi-Sector   \n",
       "\n",
       "   Bidder code            Bidder Name Bidder Nationality Expense category  \\\n",
       "0   9900034215    manuel nunes barata             Angola         SERVICES   \n",
       "1   9900021206  gr stationers pty ltd            Lesotho            GOODS   \n",
       "2   9900041716          majestic tour            Morocco         SERVICES   \n",
       "\n",
       "                          Contract title Proc. mode Project Country  \\\n",
       "0  Contrat administratif de Manuel Nunes        DNP          Angola   \n",
       "1  EDUCATION QUALITY ENHANCEMENT PROJECT        NCB         Lesotho   \n",
       "2                  TRANSPORT SEMINAIRE 1        NSH         Morocco   \n",
       "\n",
       "    Contr.No.  Tender num    Loan Number  Cont. Am. (UAC)  Equiv. (USD)  \n",
       "0  5000046069       38942  2100150019543          8668.39  12012.048075  \n",
       "1  5000046077       38950  2100155009316         57026.31  79023.068556  \n",
       "2  5000046098       38973  5500155009102           667.80    925.390494  "
      ]
     },
     "execution_count": 32,
     "metadata": {},
     "output_type": "execute_result"
    }
   ],
   "source": [
    "AfDBContracts.head(3)"
   ]
  },
  {
   "cell_type": "code",
   "execution_count": 33,
   "metadata": {},
   "outputs": [],
   "source": [
    "# Check if any of the debarred firms is in this contracts dataset\n",
    "AfDBContracts['Match'] = np.where((AfDBContracts['Bidder Name'].isin(WBSuppliers['Firm Name'])), 1, 0)"
   ]
  },
  {
   "cell_type": "code",
   "execution_count": 34,
   "metadata": {},
   "outputs": [
    {
     "data": {
      "text/plain": [
       "0    18165\n",
       "1       13\n",
       "Name: Match, dtype: int64"
      ]
     },
     "execution_count": 34,
     "metadata": {},
     "output_type": "execute_result"
    }
   ],
   "source": [
    "AfDBContracts['Match'].value_counts()"
   ]
  },
  {
   "cell_type": "markdown",
   "metadata": {},
   "source": [
    "# Model"
   ]
  },
  {
   "cell_type": "code",
   "execution_count": 35,
   "metadata": {},
   "outputs": [
    {
     "data": {
      "text/plain": [
       "Index(['As of Date', 'Fiscal Year', 'Region', 'Borrower Country',\n",
       "       'Borrower Country Code', 'Project ID', 'Project Name',\n",
       "       'Procurement Type', 'Procurement Category', 'Procurement Method',\n",
       "       'Product line', 'Major Sector', 'WB Contract Number',\n",
       "       'Contract Description', 'Contract Signing Date', 'Supplier',\n",
       "       'Supplier Country', 'Supplier Country Code', 'Supplier State',\n",
       "       'Total Contract Amount (USD)', 'Borrower Contract Reference Number',\n",
       "       'Match'],\n",
       "      dtype='object')"
      ]
     },
     "execution_count": 35,
     "metadata": {},
     "output_type": "execute_result"
    }
   ],
   "source": [
    "WBContracts.columns"
   ]
  },
  {
   "cell_type": "code",
   "execution_count": 36,
   "metadata": {},
   "outputs": [
    {
     "data": {
      "text/html": [
       "<div>\n",
       "<style scoped>\n",
       "    .dataframe tbody tr th:only-of-type {\n",
       "        vertical-align: middle;\n",
       "    }\n",
       "\n",
       "    .dataframe tbody tr th {\n",
       "        vertical-align: top;\n",
       "    }\n",
       "\n",
       "    .dataframe thead th {\n",
       "        text-align: right;\n",
       "    }\n",
       "</style>\n",
       "<table border=\"1\" class=\"dataframe\">\n",
       "  <thead>\n",
       "    <tr style=\"text-align: right;\">\n",
       "      <th></th>\n",
       "      <th>As of Date</th>\n",
       "      <th>Fiscal Year</th>\n",
       "      <th>Region</th>\n",
       "      <th>Borrower Country</th>\n",
       "      <th>Borrower Country Code</th>\n",
       "      <th>Project ID</th>\n",
       "      <th>Project Name</th>\n",
       "      <th>Procurement Type</th>\n",
       "      <th>Procurement Category</th>\n",
       "      <th>Procurement Method</th>\n",
       "      <th>...</th>\n",
       "      <th>WB Contract Number</th>\n",
       "      <th>Contract Description</th>\n",
       "      <th>Contract Signing Date</th>\n",
       "      <th>Supplier</th>\n",
       "      <th>Supplier Country</th>\n",
       "      <th>Supplier Country Code</th>\n",
       "      <th>Supplier State</th>\n",
       "      <th>Total Contract Amount (USD)</th>\n",
       "      <th>Borrower Contract Reference Number</th>\n",
       "      <th>Match</th>\n",
       "    </tr>\n",
       "  </thead>\n",
       "  <tbody>\n",
       "    <tr>\n",
       "      <th>0</th>\n",
       "      <td>09/09/2020 12:00:00 AM</td>\n",
       "      <td>2000</td>\n",
       "      <td>AFE</td>\n",
       "      <td>Angola</td>\n",
       "      <td>AO</td>\n",
       "      <td>P000044</td>\n",
       "      <td>FINANCIAL INSTITUTIO</td>\n",
       "      <td>Implementation Activity</td>\n",
       "      <td>CONSULTANT SERVICES</td>\n",
       "      <td>Quality And Cost-Based Selection</td>\n",
       "      <td>...</td>\n",
       "      <td>1207736</td>\n",
       "      <td>OIL SECTOR STUDY - CONTRCT WITH KPMG</td>\n",
       "      <td>11/20/2000 12:00:00 AM</td>\n",
       "      <td>KPMG INTERNATIONAL</td>\n",
       "      <td>United Kingdom</td>\n",
       "      <td>GB</td>\n",
       "      <td>Not assigned</td>\n",
       "      <td>800000.00</td>\n",
       "      <td>KPMG - 11/20/2000</td>\n",
       "      <td>0</td>\n",
       "    </tr>\n",
       "    <tr>\n",
       "      <th>2</th>\n",
       "      <td>09/09/2020 12:00:00 AM</td>\n",
       "      <td>2000</td>\n",
       "      <td>AFE</td>\n",
       "      <td>Madagascar</td>\n",
       "      <td>MG</td>\n",
       "      <td>P052186</td>\n",
       "      <td>MG-Microfinance</td>\n",
       "      <td>Implementation Activity</td>\n",
       "      <td>CONSULTANT SERVICES</td>\n",
       "      <td>Quality And Cost-Based Selection</td>\n",
       "      <td>...</td>\n",
       "      <td>1116602</td>\n",
       "      <td>APPUI AU DEVELOPPEMENT DU RESEAU OTIV (TOAMASINA)</td>\n",
       "      <td>09/17/1999 12:00:00 AM</td>\n",
       "      <td>DEVELOPMENT INTERNA.DESJARDINS</td>\n",
       "      <td>Canada</td>\n",
       "      <td>CA</td>\n",
       "      <td>Not assigned</td>\n",
       "      <td>1964921.66</td>\n",
       "      <td>1/01/10/99/AGEPMF/DID</td>\n",
       "      <td>0</td>\n",
       "    </tr>\n",
       "    <tr>\n",
       "      <th>4</th>\n",
       "      <td>09/09/2020 12:00:00 AM</td>\n",
       "      <td>2000</td>\n",
       "      <td>AFE</td>\n",
       "      <td>South Africa</td>\n",
       "      <td>ZA</td>\n",
       "      <td>P035923</td>\n",
       "      <td>ZA-GEF Cape Penninsula SIL (FY98)</td>\n",
       "      <td>Implementation Activity</td>\n",
       "      <td>CONSULTANT SERVICES</td>\n",
       "      <td>Quality And Cost-Based Selection</td>\n",
       "      <td>...</td>\n",
       "      <td>1116066</td>\n",
       "      <td>INSTITUTIONAL, LEGAL, POLICY, FINANCIAL, SOCIA...</td>\n",
       "      <td>07/06/1999 12:00:00 AM</td>\n",
       "      <td>CSIR</td>\n",
       "      <td>South Africa</td>\n",
       "      <td>ZA</td>\n",
       "      <td>Not assigned</td>\n",
       "      <td>178601.56</td>\n",
       "      <td>WWF-SA-3</td>\n",
       "      <td>0</td>\n",
       "    </tr>\n",
       "  </tbody>\n",
       "</table>\n",
       "<p>3 rows × 22 columns</p>\n",
       "</div>"
      ],
      "text/plain": [
       "               As of Date  Fiscal Year Region Borrower Country  \\\n",
       "0  09/09/2020 12:00:00 AM         2000    AFE           Angola   \n",
       "2  09/09/2020 12:00:00 AM         2000    AFE       Madagascar   \n",
       "4  09/09/2020 12:00:00 AM         2000    AFE     South Africa   \n",
       "\n",
       "  Borrower Country Code Project ID                       Project Name  \\\n",
       "0                    AO    P000044               FINANCIAL INSTITUTIO   \n",
       "2                    MG    P052186                    MG-Microfinance   \n",
       "4                    ZA    P035923  ZA-GEF Cape Penninsula SIL (FY98)   \n",
       "\n",
       "          Procurement Type Procurement Category  \\\n",
       "0  Implementation Activity  CONSULTANT SERVICES   \n",
       "2  Implementation Activity  CONSULTANT SERVICES   \n",
       "4  Implementation Activity  CONSULTANT SERVICES   \n",
       "\n",
       "                 Procurement Method  ... WB Contract Number  \\\n",
       "0  Quality And Cost-Based Selection  ...            1207736   \n",
       "2  Quality And Cost-Based Selection  ...            1116602   \n",
       "4  Quality And Cost-Based Selection  ...            1116066   \n",
       "\n",
       "                                Contract Description   Contract Signing Date  \\\n",
       "0               OIL SECTOR STUDY - CONTRCT WITH KPMG  11/20/2000 12:00:00 AM   \n",
       "2  APPUI AU DEVELOPPEMENT DU RESEAU OTIV (TOAMASINA)  09/17/1999 12:00:00 AM   \n",
       "4  INSTITUTIONAL, LEGAL, POLICY, FINANCIAL, SOCIA...  07/06/1999 12:00:00 AM   \n",
       "\n",
       "                         Supplier Supplier Country Supplier Country Code  \\\n",
       "0              KPMG INTERNATIONAL   United Kingdom                    GB   \n",
       "2  DEVELOPMENT INTERNA.DESJARDINS           Canada                    CA   \n",
       "4                            CSIR     South Africa                    ZA   \n",
       "\n",
       "  Supplier State Total Contract Amount (USD)  \\\n",
       "0   Not assigned                   800000.00   \n",
       "2   Not assigned                  1964921.66   \n",
       "4   Not assigned                   178601.56   \n",
       "\n",
       "  Borrower Contract Reference Number  Match  \n",
       "0                  KPMG - 11/20/2000      0  \n",
       "2              1/01/10/99/AGEPMF/DID      0  \n",
       "4                           WWF-SA-3      0  \n",
       "\n",
       "[3 rows x 22 columns]"
      ]
     },
     "execution_count": 36,
     "metadata": {},
     "output_type": "execute_result"
    }
   ],
   "source": [
    "WBContracts.head(3)"
   ]
  },
  {
   "cell_type": "markdown",
   "metadata": {},
   "source": [
    "## Cleaning and Feature engineering"
   ]
  },
  {
   "cell_type": "code",
   "execution_count": 37,
   "metadata": {},
   "outputs": [],
   "source": [
    "## First store target variable\n",
    "labelWB = WBContracts['Match']"
   ]
  },
  {
   "cell_type": "code",
   "execution_count": 38,
   "metadata": {},
   "outputs": [
    {
     "data": {
      "text/plain": [
       "0    172099\n",
       "1       325\n",
       "Name: Match, dtype: int64"
      ]
     },
     "execution_count": 38,
     "metadata": {},
     "output_type": "execute_result"
    }
   ],
   "source": [
    "labelWB.value_counts()"
   ]
  },
  {
   "cell_type": "code",
   "execution_count": 39,
   "metadata": {},
   "outputs": [],
   "source": [
    "## I only keep useful columns for prediction \n",
    "## Exclude country/region related: \n",
    "## Exclude anything unique to contracts: ID's, reference numbers"
   ]
  },
  {
   "cell_type": "code",
   "execution_count": 40,
   "metadata": {},
   "outputs": [],
   "source": [
    "## Store potentially useful categorical variables for one-hot encoding \n",
    "catWB = WBContracts.drop(columns=['Match', 'Fiscal Year', 'Region', 'Borrower Country', 'Project ID', 'Project Name',\n",
    "                                  'WB Contract Number', 'Supplier', 'Supplier Country Code', 'As of Date', 'Supplier State',\n",
    "                                  'Supplier Country', 'Borrower Contract Reference Number', 'Borrower Country Code',\n",
    "                                 'Contract Signing Date', 'Contract Description', 'Total Contract Amount (USD)'])"
   ]
  },
  {
   "cell_type": "code",
   "execution_count": 41,
   "metadata": {},
   "outputs": [
    {
     "data": {
      "text/html": [
       "<div>\n",
       "<style scoped>\n",
       "    .dataframe tbody tr th:only-of-type {\n",
       "        vertical-align: middle;\n",
       "    }\n",
       "\n",
       "    .dataframe tbody tr th {\n",
       "        vertical-align: top;\n",
       "    }\n",
       "\n",
       "    .dataframe thead th {\n",
       "        text-align: right;\n",
       "    }\n",
       "</style>\n",
       "<table border=\"1\" class=\"dataframe\">\n",
       "  <thead>\n",
       "    <tr style=\"text-align: right;\">\n",
       "      <th></th>\n",
       "      <th>Procurement Type</th>\n",
       "      <th>Procurement Category</th>\n",
       "      <th>Procurement Method</th>\n",
       "      <th>Product line</th>\n",
       "      <th>Major Sector</th>\n",
       "    </tr>\n",
       "  </thead>\n",
       "  <tbody>\n",
       "    <tr>\n",
       "      <th>0</th>\n",
       "      <td>Implementation Activity</td>\n",
       "      <td>CONSULTANT SERVICES</td>\n",
       "      <td>Quality And Cost-Based Selection</td>\n",
       "      <td>IBRD/IDA</td>\n",
       "      <td>Financial Sector</td>\n",
       "    </tr>\n",
       "    <tr>\n",
       "      <th>2</th>\n",
       "      <td>Implementation Activity</td>\n",
       "      <td>CONSULTANT SERVICES</td>\n",
       "      <td>Quality And Cost-Based Selection</td>\n",
       "      <td>IBRD/IDA</td>\n",
       "      <td>Financial Sector</td>\n",
       "    </tr>\n",
       "    <tr>\n",
       "      <th>4</th>\n",
       "      <td>Implementation Activity</td>\n",
       "      <td>CONSULTANT SERVICES</td>\n",
       "      <td>Quality And Cost-Based Selection</td>\n",
       "      <td>GEF</td>\n",
       "      <td>Agriculture</td>\n",
       "    </tr>\n",
       "    <tr>\n",
       "      <th>8</th>\n",
       "      <td>Implementation Activity</td>\n",
       "      <td>CONSULTANT SERVICES</td>\n",
       "      <td>Quality And Cost-Based Selection</td>\n",
       "      <td>IBRD/IDA</td>\n",
       "      <td>Public Admin</td>\n",
       "    </tr>\n",
       "    <tr>\n",
       "      <th>11</th>\n",
       "      <td>Equipment, Electrical</td>\n",
       "      <td>GOODS</td>\n",
       "      <td>Direct Selection</td>\n",
       "      <td>IBRD/IDA</td>\n",
       "      <td>Energy &amp; Extractives</td>\n",
       "    </tr>\n",
       "  </tbody>\n",
       "</table>\n",
       "</div>"
      ],
      "text/plain": [
       "           Procurement Type Procurement Category  \\\n",
       "0   Implementation Activity  CONSULTANT SERVICES   \n",
       "2   Implementation Activity  CONSULTANT SERVICES   \n",
       "4   Implementation Activity  CONSULTANT SERVICES   \n",
       "8   Implementation Activity  CONSULTANT SERVICES   \n",
       "11    Equipment, Electrical                GOODS   \n",
       "\n",
       "                  Procurement Method Product line          Major Sector  \n",
       "0   Quality And Cost-Based Selection     IBRD/IDA      Financial Sector  \n",
       "2   Quality And Cost-Based Selection     IBRD/IDA      Financial Sector  \n",
       "4   Quality And Cost-Based Selection          GEF           Agriculture  \n",
       "8   Quality And Cost-Based Selection     IBRD/IDA          Public Admin  \n",
       "11                  Direct Selection     IBRD/IDA  Energy & Extractives  "
      ]
     },
     "execution_count": 41,
     "metadata": {},
     "output_type": "execute_result"
    }
   ],
   "source": [
    "catWB.head(5)"
   ]
  },
  {
   "cell_type": "code",
   "execution_count": 42,
   "metadata": {},
   "outputs": [
    {
     "data": {
      "text/plain": [
       "Management /Technical Advice             21292\n",
       "Project Management                       12361\n",
       "Works, Infrastructure                    11098\n",
       "Works, Maintenance and Rehabilitation    11011\n",
       "Equipment Information Technology          7808\n",
       "                                         ...  \n",
       "Satellite Imaging Services                  15\n",
       "Instutional/Management Assistance            6\n",
       "Drilling Services                            2\n",
       "Equipment, Data Processing                   2\n",
       "Consultanting Other Combination              1\n",
       "Name: Procurement Type, Length: 68, dtype: int64"
      ]
     },
     "execution_count": 42,
     "metadata": {},
     "output_type": "execute_result"
    }
   ],
   "source": [
    "catWB['Procurement Type'].value_counts()"
   ]
  },
  {
   "cell_type": "code",
   "execution_count": 43,
   "metadata": {},
   "outputs": [
    {
     "data": {
      "text/plain": [
       "CONSULTANT SERVICES        89843\n",
       "GOODS                      47868\n",
       "CIVIL WORKS                32320\n",
       "NON-CONSULTING SERVICES     2393\n",
       "Name: Procurement Category, dtype: int64"
      ]
     },
     "execution_count": 43,
     "metadata": {},
     "output_type": "execute_result"
    }
   ],
   "source": [
    "catWB['Procurement Category'].value_counts()"
   ]
  },
  {
   "cell_type": "code",
   "execution_count": 44,
   "metadata": {},
   "outputs": [
    {
     "data": {
      "text/plain": [
       "International Competitive Bidding           36401\n",
       "Individual Consultant Selection             28688\n",
       "National Competitive Bidding                27228\n",
       "Quality And Cost-Based Selection            22493\n",
       "Single Source Selection                     21306\n",
       "Direct Selection                             8710\n",
       "Consultant Qualification  Selection          8272\n",
       "Shopping                                     5597\n",
       "Request for Bids                             4732\n",
       "Quality Based Selection                      2498\n",
       "Selection Based On Consultant's Qualific     1811\n",
       "Least Cost Selection                         1729\n",
       "Fixed Budget Selection                        978\n",
       "Limited International Bidding                 934\n",
       "Request for Quotations                        456\n",
       "Service Delivery Contracts                    374\n",
       "UN Agencies (Direct)                          149\n",
       "Request for Proposals                          25\n",
       "Force Account                                  22\n",
       "Community Driven Development                    8\n",
       "E-Auctions                                      6\n",
       "Non-Profit Organizations                        3\n",
       "Imports                                         1\n",
       "Commercial Practices                            1\n",
       "Procurement Agents                              1\n",
       "Comercial Practices                             1\n",
       "Name: Procurement Method, dtype: int64"
      ]
     },
     "execution_count": 44,
     "metadata": {},
     "output_type": "execute_result"
    }
   ],
   "source": [
    "catWB['Procurement Method'].value_counts()"
   ]
  },
  {
   "cell_type": "code",
   "execution_count": 45,
   "metadata": {},
   "outputs": [
    {
     "data": {
      "text/plain": [
       "IBRD/IDA                            148485\n",
       "Recipient Executed Activities        13379\n",
       "GEF                                   5308\n",
       "IDF                                   2079\n",
       "Special Financing                     1868\n",
       "Carbon Offset                          520\n",
       "GEF Medium Sized Program               212\n",
       "Montreal Protocol                      132\n",
       "TA Non-Lending                         125\n",
       "IFAD                                    97\n",
       "PRSP                                    64\n",
       "Guarantees                              60\n",
       "GEFSEC Recipent Executed                30\n",
       "Partnership                             28\n",
       "Global Programs and Partnerships        25\n",
       "Debt Reduction Facility                  5\n",
       "Rainforest                               5\n",
       "ESW                                      2\n",
       "Name: Product line, dtype: int64"
      ]
     },
     "execution_count": 45,
     "metadata": {},
     "output_type": "execute_result"
    }
   ],
   "source": [
    "catWB['Product line'].value_counts()"
   ]
  },
  {
   "cell_type": "code",
   "execution_count": 46,
   "metadata": {},
   "outputs": [
    {
     "data": {
      "text/plain": [
       "Public Admin            31234\n",
       "Agriculture             24062\n",
       "Education               22199\n",
       "(H)Health & social      20128\n",
       "Energy & Extractives    17347\n",
       "Water/Sanit/Waste       17203\n",
       "Transportation          17107\n",
       "Health                   6083\n",
       "Financial Sector         5308\n",
       "Industry & Trade/Ser     4382\n",
       "Not Assigned             3552\n",
       "Info & Communication     2795\n",
       "Social Protection         933\n",
       "Not assigned               36\n",
       "(H)Multisector             28\n",
       "(H)Environment             10\n",
       "(H)Electric Pwr&Engy        8\n",
       "(H)Economic Policy          3\n",
       "(H)Urban Development        3\n",
       "(H)Priv Sector Dev          1\n",
       "(H)Industry                 1\n",
       "Name: Major Sector, dtype: int64"
      ]
     },
     "execution_count": 46,
     "metadata": {},
     "output_type": "execute_result"
    }
   ],
   "source": [
    "catWB['Major Sector'].value_counts()"
   ]
  },
  {
   "cell_type": "code",
   "execution_count": 47,
   "metadata": {},
   "outputs": [],
   "source": [
    "X = catWB.copy() \n",
    "Y = labelWB.copy() # Only take label (this will not change)"
   ]
  },
  {
   "cell_type": "code",
   "execution_count": 48,
   "metadata": {},
   "outputs": [
    {
     "data": {
      "text/plain": [
       "172424"
      ]
     },
     "execution_count": 48,
     "metadata": {},
     "output_type": "execute_result"
    }
   ],
   "source": [
    "len(X)"
   ]
  },
  {
   "cell_type": "code",
   "execution_count": 49,
   "metadata": {},
   "outputs": [
    {
     "data": {
      "text/plain": [
       "172424"
      ]
     },
     "execution_count": 49,
     "metadata": {},
     "output_type": "execute_result"
    }
   ],
   "source": [
    "len(Y)"
   ]
  },
  {
   "cell_type": "code",
   "execution_count": 50,
   "metadata": {},
   "outputs": [
    {
     "data": {
      "text/html": [
       "<div>\n",
       "<style scoped>\n",
       "    .dataframe tbody tr th:only-of-type {\n",
       "        vertical-align: middle;\n",
       "    }\n",
       "\n",
       "    .dataframe tbody tr th {\n",
       "        vertical-align: top;\n",
       "    }\n",
       "\n",
       "    .dataframe thead th {\n",
       "        text-align: right;\n",
       "    }\n",
       "</style>\n",
       "<table border=\"1\" class=\"dataframe\">\n",
       "  <thead>\n",
       "    <tr style=\"text-align: right;\">\n",
       "      <th></th>\n",
       "      <th>Procurement Type</th>\n",
       "      <th>Procurement Category</th>\n",
       "      <th>Procurement Method</th>\n",
       "      <th>Product line</th>\n",
       "      <th>Major Sector</th>\n",
       "    </tr>\n",
       "  </thead>\n",
       "  <tbody>\n",
       "    <tr>\n",
       "      <th>0</th>\n",
       "      <td>Implementation Activity</td>\n",
       "      <td>CONSULTANT SERVICES</td>\n",
       "      <td>Quality And Cost-Based Selection</td>\n",
       "      <td>IBRD/IDA</td>\n",
       "      <td>Financial Sector</td>\n",
       "    </tr>\n",
       "    <tr>\n",
       "      <th>1</th>\n",
       "      <td>Implementation Activity</td>\n",
       "      <td>CONSULTANT SERVICES</td>\n",
       "      <td>Quality And Cost-Based Selection</td>\n",
       "      <td>IBRD/IDA</td>\n",
       "      <td>Financial Sector</td>\n",
       "    </tr>\n",
       "    <tr>\n",
       "      <th>2</th>\n",
       "      <td>Implementation Activity</td>\n",
       "      <td>CONSULTANT SERVICES</td>\n",
       "      <td>Quality And Cost-Based Selection</td>\n",
       "      <td>GEF</td>\n",
       "      <td>Agriculture</td>\n",
       "    </tr>\n",
       "    <tr>\n",
       "      <th>3</th>\n",
       "      <td>Implementation Activity</td>\n",
       "      <td>CONSULTANT SERVICES</td>\n",
       "      <td>Quality And Cost-Based Selection</td>\n",
       "      <td>IBRD/IDA</td>\n",
       "      <td>Public Admin</td>\n",
       "    </tr>\n",
       "    <tr>\n",
       "      <th>4</th>\n",
       "      <td>Equipment, Electrical</td>\n",
       "      <td>GOODS</td>\n",
       "      <td>Direct Selection</td>\n",
       "      <td>IBRD/IDA</td>\n",
       "      <td>Energy &amp; Extractives</td>\n",
       "    </tr>\n",
       "    <tr>\n",
       "      <th>...</th>\n",
       "      <td>...</td>\n",
       "      <td>...</td>\n",
       "      <td>...</td>\n",
       "      <td>...</td>\n",
       "      <td>...</td>\n",
       "    </tr>\n",
       "    <tr>\n",
       "      <th>172419</th>\n",
       "      <td>Not assigned</td>\n",
       "      <td>CONSULTANT SERVICES</td>\n",
       "      <td>Direct Selection</td>\n",
       "      <td>IBRD/IDA</td>\n",
       "      <td>Not Assigned</td>\n",
       "    </tr>\n",
       "    <tr>\n",
       "      <th>172420</th>\n",
       "      <td>Not assigned</td>\n",
       "      <td>CONSULTANT SERVICES</td>\n",
       "      <td>Direct Selection</td>\n",
       "      <td>IBRD/IDA</td>\n",
       "      <td>Not Assigned</td>\n",
       "    </tr>\n",
       "    <tr>\n",
       "      <th>172421</th>\n",
       "      <td>Not assigned</td>\n",
       "      <td>CONSULTANT SERVICES</td>\n",
       "      <td>Individual Consultant Selection</td>\n",
       "      <td>IBRD/IDA</td>\n",
       "      <td>Not Assigned</td>\n",
       "    </tr>\n",
       "    <tr>\n",
       "      <th>172422</th>\n",
       "      <td>Not assigned</td>\n",
       "      <td>CONSULTANT SERVICES</td>\n",
       "      <td>Individual Consultant Selection</td>\n",
       "      <td>IBRD/IDA</td>\n",
       "      <td>Not Assigned</td>\n",
       "    </tr>\n",
       "    <tr>\n",
       "      <th>172423</th>\n",
       "      <td>Not assigned</td>\n",
       "      <td>CONSULTANT SERVICES</td>\n",
       "      <td>Individual Consultant Selection</td>\n",
       "      <td>IBRD/IDA</td>\n",
       "      <td>Not Assigned</td>\n",
       "    </tr>\n",
       "  </tbody>\n",
       "</table>\n",
       "<p>172424 rows × 5 columns</p>\n",
       "</div>"
      ],
      "text/plain": [
       "               Procurement Type Procurement Category  \\\n",
       "0       Implementation Activity  CONSULTANT SERVICES   \n",
       "1       Implementation Activity  CONSULTANT SERVICES   \n",
       "2       Implementation Activity  CONSULTANT SERVICES   \n",
       "3       Implementation Activity  CONSULTANT SERVICES   \n",
       "4         Equipment, Electrical                GOODS   \n",
       "...                         ...                  ...   \n",
       "172419             Not assigned  CONSULTANT SERVICES   \n",
       "172420             Not assigned  CONSULTANT SERVICES   \n",
       "172421             Not assigned  CONSULTANT SERVICES   \n",
       "172422             Not assigned  CONSULTANT SERVICES   \n",
       "172423             Not assigned  CONSULTANT SERVICES   \n",
       "\n",
       "                      Procurement Method Product line          Major Sector  \n",
       "0       Quality And Cost-Based Selection     IBRD/IDA      Financial Sector  \n",
       "1       Quality And Cost-Based Selection     IBRD/IDA      Financial Sector  \n",
       "2       Quality And Cost-Based Selection          GEF           Agriculture  \n",
       "3       Quality And Cost-Based Selection     IBRD/IDA          Public Admin  \n",
       "4                       Direct Selection     IBRD/IDA  Energy & Extractives  \n",
       "...                                  ...          ...                   ...  \n",
       "172419                  Direct Selection     IBRD/IDA          Not Assigned  \n",
       "172420                  Direct Selection     IBRD/IDA          Not Assigned  \n",
       "172421   Individual Consultant Selection     IBRD/IDA          Not Assigned  \n",
       "172422   Individual Consultant Selection     IBRD/IDA          Not Assigned  \n",
       "172423   Individual Consultant Selection     IBRD/IDA          Not Assigned  \n",
       "\n",
       "[172424 rows x 5 columns]"
      ]
     },
     "execution_count": 50,
     "metadata": {},
     "output_type": "execute_result"
    }
   ],
   "source": [
    "X.reset_index(drop=True)"
   ]
  },
  {
   "cell_type": "code",
   "execution_count": 51,
   "metadata": {},
   "outputs": [
    {
     "data": {
      "text/plain": [
       "0         0\n",
       "1         0\n",
       "2         0\n",
       "3         0\n",
       "4         0\n",
       "         ..\n",
       "172419    0\n",
       "172420    0\n",
       "172421    0\n",
       "172422    0\n",
       "172423    0\n",
       "Name: Match, Length: 172424, dtype: int64"
      ]
     },
     "execution_count": 51,
     "metadata": {},
     "output_type": "execute_result"
    }
   ],
   "source": [
    "Y.reset_index(drop=True)"
   ]
  },
  {
   "cell_type": "code",
   "execution_count": 52,
   "metadata": {},
   "outputs": [
    {
     "data": {
      "text/plain": [
       "0    172099\n",
       "1       325\n",
       "Name: Match, dtype: int64"
      ]
     },
     "execution_count": 52,
     "metadata": {},
     "output_type": "execute_result"
    }
   ],
   "source": [
    "## Check that all my 1's are still there \n",
    "Y.value_counts()"
   ]
  },
  {
   "cell_type": "code",
   "execution_count": 53,
   "metadata": {},
   "outputs": [],
   "source": [
    "## First, one hot encode all categorical variables "
   ]
  },
  {
   "cell_type": "code",
   "execution_count": 54,
   "metadata": {},
   "outputs": [],
   "source": [
    "## Get dummy variables \n",
    "## For everyhting\n",
    "dum_df = pd.get_dummies(X, columns=[\"Procurement Category\", \"Procurement Method\", \"Major Sector\",'Product line', 'Procurement Type' ])"
   ]
  },
  {
   "cell_type": "code",
   "execution_count": 55,
   "metadata": {},
   "outputs": [
    {
     "data": {
      "text/html": [
       "<div>\n",
       "<style scoped>\n",
       "    .dataframe tbody tr th:only-of-type {\n",
       "        vertical-align: middle;\n",
       "    }\n",
       "\n",
       "    .dataframe tbody tr th {\n",
       "        vertical-align: top;\n",
       "    }\n",
       "\n",
       "    .dataframe thead th {\n",
       "        text-align: right;\n",
       "    }\n",
       "</style>\n",
       "<table border=\"1\" class=\"dataframe\">\n",
       "  <thead>\n",
       "    <tr style=\"text-align: right;\">\n",
       "      <th></th>\n",
       "      <th>Procurement Type</th>\n",
       "      <th>Procurement Category</th>\n",
       "      <th>Procurement Method</th>\n",
       "      <th>Product line</th>\n",
       "      <th>Major Sector</th>\n",
       "      <th>Procurement Category_CIVIL WORKS</th>\n",
       "      <th>Procurement Category_CONSULTANT SERVICES</th>\n",
       "      <th>Procurement Category_GOODS</th>\n",
       "      <th>Procurement Category_NON-CONSULTING SERVICES</th>\n",
       "      <th>Procurement Method_Comercial Practices</th>\n",
       "      <th>...</th>\n",
       "      <th>Procurement Type_Survey Services</th>\n",
       "      <th>Procurement Type_Training Services</th>\n",
       "      <th>Procurement Type_Unidentified Consultants Type</th>\n",
       "      <th>Procurement Type_Unidentified Goods Type</th>\n",
       "      <th>Procurement Type_Unidentified Works Type</th>\n",
       "      <th>Procurement Type_Works,  Industrial Plants</th>\n",
       "      <th>Procurement Type_Works, Building</th>\n",
       "      <th>Procurement Type_Works, Infrastructure</th>\n",
       "      <th>Procurement Type_Works, Installation</th>\n",
       "      <th>Procurement Type_Works, Maintenance and Rehabilitation</th>\n",
       "    </tr>\n",
       "  </thead>\n",
       "  <tbody>\n",
       "    <tr>\n",
       "      <th>0</th>\n",
       "      <td>Implementation Activity</td>\n",
       "      <td>CONSULTANT SERVICES</td>\n",
       "      <td>Quality And Cost-Based Selection</td>\n",
       "      <td>IBRD/IDA</td>\n",
       "      <td>Financial Sector</td>\n",
       "      <td>0</td>\n",
       "      <td>1</td>\n",
       "      <td>0</td>\n",
       "      <td>0</td>\n",
       "      <td>0</td>\n",
       "      <td>...</td>\n",
       "      <td>0</td>\n",
       "      <td>0</td>\n",
       "      <td>0</td>\n",
       "      <td>0</td>\n",
       "      <td>0</td>\n",
       "      <td>0</td>\n",
       "      <td>0</td>\n",
       "      <td>0</td>\n",
       "      <td>0</td>\n",
       "      <td>0</td>\n",
       "    </tr>\n",
       "    <tr>\n",
       "      <th>2</th>\n",
       "      <td>Implementation Activity</td>\n",
       "      <td>CONSULTANT SERVICES</td>\n",
       "      <td>Quality And Cost-Based Selection</td>\n",
       "      <td>IBRD/IDA</td>\n",
       "      <td>Financial Sector</td>\n",
       "      <td>0</td>\n",
       "      <td>1</td>\n",
       "      <td>0</td>\n",
       "      <td>0</td>\n",
       "      <td>0</td>\n",
       "      <td>...</td>\n",
       "      <td>0</td>\n",
       "      <td>0</td>\n",
       "      <td>0</td>\n",
       "      <td>0</td>\n",
       "      <td>0</td>\n",
       "      <td>0</td>\n",
       "      <td>0</td>\n",
       "      <td>0</td>\n",
       "      <td>0</td>\n",
       "      <td>0</td>\n",
       "    </tr>\n",
       "    <tr>\n",
       "      <th>4</th>\n",
       "      <td>Implementation Activity</td>\n",
       "      <td>CONSULTANT SERVICES</td>\n",
       "      <td>Quality And Cost-Based Selection</td>\n",
       "      <td>GEF</td>\n",
       "      <td>Agriculture</td>\n",
       "      <td>0</td>\n",
       "      <td>1</td>\n",
       "      <td>0</td>\n",
       "      <td>0</td>\n",
       "      <td>0</td>\n",
       "      <td>...</td>\n",
       "      <td>0</td>\n",
       "      <td>0</td>\n",
       "      <td>0</td>\n",
       "      <td>0</td>\n",
       "      <td>0</td>\n",
       "      <td>0</td>\n",
       "      <td>0</td>\n",
       "      <td>0</td>\n",
       "      <td>0</td>\n",
       "      <td>0</td>\n",
       "    </tr>\n",
       "    <tr>\n",
       "      <th>8</th>\n",
       "      <td>Implementation Activity</td>\n",
       "      <td>CONSULTANT SERVICES</td>\n",
       "      <td>Quality And Cost-Based Selection</td>\n",
       "      <td>IBRD/IDA</td>\n",
       "      <td>Public Admin</td>\n",
       "      <td>0</td>\n",
       "      <td>1</td>\n",
       "      <td>0</td>\n",
       "      <td>0</td>\n",
       "      <td>0</td>\n",
       "      <td>...</td>\n",
       "      <td>0</td>\n",
       "      <td>0</td>\n",
       "      <td>0</td>\n",
       "      <td>0</td>\n",
       "      <td>0</td>\n",
       "      <td>0</td>\n",
       "      <td>0</td>\n",
       "      <td>0</td>\n",
       "      <td>0</td>\n",
       "      <td>0</td>\n",
       "    </tr>\n",
       "    <tr>\n",
       "      <th>11</th>\n",
       "      <td>Equipment, Electrical</td>\n",
       "      <td>GOODS</td>\n",
       "      <td>Direct Selection</td>\n",
       "      <td>IBRD/IDA</td>\n",
       "      <td>Energy &amp; Extractives</td>\n",
       "      <td>0</td>\n",
       "      <td>0</td>\n",
       "      <td>1</td>\n",
       "      <td>0</td>\n",
       "      <td>0</td>\n",
       "      <td>...</td>\n",
       "      <td>0</td>\n",
       "      <td>0</td>\n",
       "      <td>0</td>\n",
       "      <td>0</td>\n",
       "      <td>0</td>\n",
       "      <td>0</td>\n",
       "      <td>0</td>\n",
       "      <td>0</td>\n",
       "      <td>0</td>\n",
       "      <td>0</td>\n",
       "    </tr>\n",
       "  </tbody>\n",
       "</table>\n",
       "<p>5 rows × 142 columns</p>\n",
       "</div>"
      ],
      "text/plain": [
       "           Procurement Type Procurement Category  \\\n",
       "0   Implementation Activity  CONSULTANT SERVICES   \n",
       "2   Implementation Activity  CONSULTANT SERVICES   \n",
       "4   Implementation Activity  CONSULTANT SERVICES   \n",
       "8   Implementation Activity  CONSULTANT SERVICES   \n",
       "11    Equipment, Electrical                GOODS   \n",
       "\n",
       "                  Procurement Method Product line          Major Sector  \\\n",
       "0   Quality And Cost-Based Selection     IBRD/IDA      Financial Sector   \n",
       "2   Quality And Cost-Based Selection     IBRD/IDA      Financial Sector   \n",
       "4   Quality And Cost-Based Selection          GEF           Agriculture   \n",
       "8   Quality And Cost-Based Selection     IBRD/IDA          Public Admin   \n",
       "11                  Direct Selection     IBRD/IDA  Energy & Extractives   \n",
       "\n",
       "    Procurement Category_CIVIL WORKS  \\\n",
       "0                                  0   \n",
       "2                                  0   \n",
       "4                                  0   \n",
       "8                                  0   \n",
       "11                                 0   \n",
       "\n",
       "    Procurement Category_CONSULTANT SERVICES  Procurement Category_GOODS  \\\n",
       "0                                          1                           0   \n",
       "2                                          1                           0   \n",
       "4                                          1                           0   \n",
       "8                                          1                           0   \n",
       "11                                         0                           1   \n",
       "\n",
       "    Procurement Category_NON-CONSULTING SERVICES  \\\n",
       "0                                              0   \n",
       "2                                              0   \n",
       "4                                              0   \n",
       "8                                              0   \n",
       "11                                             0   \n",
       "\n",
       "    Procurement Method_Comercial Practices  ...  \\\n",
       "0                                        0  ...   \n",
       "2                                        0  ...   \n",
       "4                                        0  ...   \n",
       "8                                        0  ...   \n",
       "11                                       0  ...   \n",
       "\n",
       "    Procurement Type_Survey Services  Procurement Type_Training Services  \\\n",
       "0                                  0                                   0   \n",
       "2                                  0                                   0   \n",
       "4                                  0                                   0   \n",
       "8                                  0                                   0   \n",
       "11                                 0                                   0   \n",
       "\n",
       "    Procurement Type_Unidentified Consultants Type  \\\n",
       "0                                                0   \n",
       "2                                                0   \n",
       "4                                                0   \n",
       "8                                                0   \n",
       "11                                               0   \n",
       "\n",
       "    Procurement Type_Unidentified Goods Type  \\\n",
       "0                                          0   \n",
       "2                                          0   \n",
       "4                                          0   \n",
       "8                                          0   \n",
       "11                                         0   \n",
       "\n",
       "    Procurement Type_Unidentified Works Type  \\\n",
       "0                                          0   \n",
       "2                                          0   \n",
       "4                                          0   \n",
       "8                                          0   \n",
       "11                                         0   \n",
       "\n",
       "    Procurement Type_Works,  Industrial Plants  \\\n",
       "0                                            0   \n",
       "2                                            0   \n",
       "4                                            0   \n",
       "8                                            0   \n",
       "11                                           0   \n",
       "\n",
       "    Procurement Type_Works, Building  Procurement Type_Works, Infrastructure  \\\n",
       "0                                  0                                       0   \n",
       "2                                  0                                       0   \n",
       "4                                  0                                       0   \n",
       "8                                  0                                       0   \n",
       "11                                 0                                       0   \n",
       "\n",
       "    Procurement Type_Works, Installation  \\\n",
       "0                                      0   \n",
       "2                                      0   \n",
       "4                                      0   \n",
       "8                                      0   \n",
       "11                                     0   \n",
       "\n",
       "    Procurement Type_Works, Maintenance and Rehabilitation  \n",
       "0                                                   0       \n",
       "2                                                   0       \n",
       "4                                                   0       \n",
       "8                                                   0       \n",
       "11                                                  0       \n",
       "\n",
       "[5 rows x 142 columns]"
      ]
     },
     "execution_count": 55,
     "metadata": {},
     "output_type": "execute_result"
    }
   ],
   "source": [
    "# merge with X\n",
    "X = X.join(dum_df)\n",
    "X.head(5)"
   ]
  },
  {
   "cell_type": "code",
   "execution_count": 56,
   "metadata": {},
   "outputs": [],
   "source": [
    "X = X.drop(columns=['Procurement Category', 'Procurement Method', 'Major Sector', 'Product line', 'Procurement Type'])"
   ]
  },
  {
   "cell_type": "code",
   "execution_count": 57,
   "metadata": {},
   "outputs": [],
   "source": [
    "# No need for label encoding: already 1 or 0"
   ]
  },
  {
   "cell_type": "code",
   "execution_count": 58,
   "metadata": {},
   "outputs": [],
   "source": [
    "## Clean Contact signing date\n",
    "## I would like to extract the month of signing (comes from theory from lit review)\n",
    "## Year is irrelevant, and time is always the same\n",
    "## American format: the first part is the month\n",
    "\n",
    "import datetime"
   ]
  },
  {
   "cell_type": "code",
   "execution_count": 59,
   "metadata": {},
   "outputs": [],
   "source": [
    "WBContracts['Date'] = pd.to_datetime(WBContracts['Contract Signing Date'])\n",
    "WBContracts['Month_nb'] = WBContracts['Date'].dt.month\n",
    "WBContracts['Month'] = WBContracts['Date'].dt.strftime('%B')"
   ]
  },
  {
   "cell_type": "code",
   "execution_count": 60,
   "metadata": {},
   "outputs": [],
   "source": [
    "# Store the month column & one hot encode it\n",
    "dateWB = WBContracts['Month']\n",
    "dummy_df = pd.get_dummies(dateWB, columns=[\"Month\"])"
   ]
  },
  {
   "cell_type": "code",
   "execution_count": 61,
   "metadata": {},
   "outputs": [
    {
     "data": {
      "text/plain": [
       "Index(['As of Date', 'Fiscal Year', 'Region', 'Borrower Country',\n",
       "       'Borrower Country Code', 'Project ID', 'Project Name',\n",
       "       'Procurement Type', 'Procurement Category', 'Procurement Method',\n",
       "       'Product line', 'Major Sector', 'WB Contract Number',\n",
       "       'Contract Description', 'Contract Signing Date', 'Supplier',\n",
       "       'Supplier Country', 'Supplier Country Code', 'Supplier State',\n",
       "       'Total Contract Amount (USD)', 'Borrower Contract Reference Number',\n",
       "       'Match', 'Date', 'Month_nb', 'Month'],\n",
       "      dtype='object')"
      ]
     },
     "execution_count": 61,
     "metadata": {},
     "output_type": "execute_result"
    }
   ],
   "source": [
    "WBContracts.columns"
   ]
  },
  {
   "cell_type": "code",
   "execution_count": 62,
   "metadata": {},
   "outputs": [
    {
     "data": {
      "text/plain": [
       "December     16030\n",
       "June         14916\n",
       "January      14898\n",
       "July         14783\n",
       "October      14134\n",
       "August       14099\n",
       "November     13942\n",
       "March        13940\n",
       "April        13803\n",
       "September    13641\n",
       "May          13369\n",
       "February     12114\n",
       "Name: Month, dtype: int64"
      ]
     },
     "execution_count": 62,
     "metadata": {},
     "output_type": "execute_result"
    }
   ],
   "source": [
    "WBContracts['Month'].value_counts()"
   ]
  },
  {
   "cell_type": "code",
   "execution_count": 63,
   "metadata": {},
   "outputs": [
    {
     "data": {
      "text/html": [
       "<div>\n",
       "<style scoped>\n",
       "    .dataframe tbody tr th:only-of-type {\n",
       "        vertical-align: middle;\n",
       "    }\n",
       "\n",
       "    .dataframe tbody tr th {\n",
       "        vertical-align: top;\n",
       "    }\n",
       "\n",
       "    .dataframe thead th {\n",
       "        text-align: right;\n",
       "    }\n",
       "</style>\n",
       "<table border=\"1\" class=\"dataframe\">\n",
       "  <thead>\n",
       "    <tr style=\"text-align: right;\">\n",
       "      <th></th>\n",
       "      <th>Procurement Category_CIVIL WORKS</th>\n",
       "      <th>Procurement Category_CONSULTANT SERVICES</th>\n",
       "      <th>Procurement Category_GOODS</th>\n",
       "      <th>Procurement Category_NON-CONSULTING SERVICES</th>\n",
       "      <th>Procurement Method_Comercial Practices</th>\n",
       "      <th>Procurement Method_Commercial Practices</th>\n",
       "      <th>Procurement Method_Community Driven Development</th>\n",
       "      <th>Procurement Method_Consultant Qualification  Selection</th>\n",
       "      <th>Procurement Method_Direct Selection</th>\n",
       "      <th>Procurement Method_E-Auctions</th>\n",
       "      <th>...</th>\n",
       "      <th>December</th>\n",
       "      <th>February</th>\n",
       "      <th>January</th>\n",
       "      <th>July</th>\n",
       "      <th>June</th>\n",
       "      <th>March</th>\n",
       "      <th>May</th>\n",
       "      <th>November</th>\n",
       "      <th>October</th>\n",
       "      <th>September</th>\n",
       "    </tr>\n",
       "  </thead>\n",
       "  <tbody>\n",
       "    <tr>\n",
       "      <th>0</th>\n",
       "      <td>0</td>\n",
       "      <td>1</td>\n",
       "      <td>0</td>\n",
       "      <td>0</td>\n",
       "      <td>0</td>\n",
       "      <td>0</td>\n",
       "      <td>0</td>\n",
       "      <td>0</td>\n",
       "      <td>0</td>\n",
       "      <td>0</td>\n",
       "      <td>...</td>\n",
       "      <td>0</td>\n",
       "      <td>0</td>\n",
       "      <td>0</td>\n",
       "      <td>0</td>\n",
       "      <td>0</td>\n",
       "      <td>0</td>\n",
       "      <td>0</td>\n",
       "      <td>1</td>\n",
       "      <td>0</td>\n",
       "      <td>0</td>\n",
       "    </tr>\n",
       "    <tr>\n",
       "      <th>2</th>\n",
       "      <td>0</td>\n",
       "      <td>1</td>\n",
       "      <td>0</td>\n",
       "      <td>0</td>\n",
       "      <td>0</td>\n",
       "      <td>0</td>\n",
       "      <td>0</td>\n",
       "      <td>0</td>\n",
       "      <td>0</td>\n",
       "      <td>0</td>\n",
       "      <td>...</td>\n",
       "      <td>0</td>\n",
       "      <td>0</td>\n",
       "      <td>0</td>\n",
       "      <td>0</td>\n",
       "      <td>0</td>\n",
       "      <td>0</td>\n",
       "      <td>0</td>\n",
       "      <td>0</td>\n",
       "      <td>0</td>\n",
       "      <td>1</td>\n",
       "    </tr>\n",
       "    <tr>\n",
       "      <th>4</th>\n",
       "      <td>0</td>\n",
       "      <td>1</td>\n",
       "      <td>0</td>\n",
       "      <td>0</td>\n",
       "      <td>0</td>\n",
       "      <td>0</td>\n",
       "      <td>0</td>\n",
       "      <td>0</td>\n",
       "      <td>0</td>\n",
       "      <td>0</td>\n",
       "      <td>...</td>\n",
       "      <td>0</td>\n",
       "      <td>0</td>\n",
       "      <td>0</td>\n",
       "      <td>1</td>\n",
       "      <td>0</td>\n",
       "      <td>0</td>\n",
       "      <td>0</td>\n",
       "      <td>0</td>\n",
       "      <td>0</td>\n",
       "      <td>0</td>\n",
       "    </tr>\n",
       "    <tr>\n",
       "      <th>8</th>\n",
       "      <td>0</td>\n",
       "      <td>1</td>\n",
       "      <td>0</td>\n",
       "      <td>0</td>\n",
       "      <td>0</td>\n",
       "      <td>0</td>\n",
       "      <td>0</td>\n",
       "      <td>0</td>\n",
       "      <td>0</td>\n",
       "      <td>0</td>\n",
       "      <td>...</td>\n",
       "      <td>0</td>\n",
       "      <td>0</td>\n",
       "      <td>0</td>\n",
       "      <td>0</td>\n",
       "      <td>0</td>\n",
       "      <td>0</td>\n",
       "      <td>0</td>\n",
       "      <td>0</td>\n",
       "      <td>0</td>\n",
       "      <td>0</td>\n",
       "    </tr>\n",
       "    <tr>\n",
       "      <th>11</th>\n",
       "      <td>0</td>\n",
       "      <td>0</td>\n",
       "      <td>1</td>\n",
       "      <td>0</td>\n",
       "      <td>0</td>\n",
       "      <td>0</td>\n",
       "      <td>0</td>\n",
       "      <td>0</td>\n",
       "      <td>1</td>\n",
       "      <td>0</td>\n",
       "      <td>...</td>\n",
       "      <td>0</td>\n",
       "      <td>0</td>\n",
       "      <td>0</td>\n",
       "      <td>1</td>\n",
       "      <td>0</td>\n",
       "      <td>0</td>\n",
       "      <td>0</td>\n",
       "      <td>0</td>\n",
       "      <td>0</td>\n",
       "      <td>0</td>\n",
       "    </tr>\n",
       "  </tbody>\n",
       "</table>\n",
       "<p>5 rows × 149 columns</p>\n",
       "</div>"
      ],
      "text/plain": [
       "    Procurement Category_CIVIL WORKS  \\\n",
       "0                                  0   \n",
       "2                                  0   \n",
       "4                                  0   \n",
       "8                                  0   \n",
       "11                                 0   \n",
       "\n",
       "    Procurement Category_CONSULTANT SERVICES  Procurement Category_GOODS  \\\n",
       "0                                          1                           0   \n",
       "2                                          1                           0   \n",
       "4                                          1                           0   \n",
       "8                                          1                           0   \n",
       "11                                         0                           1   \n",
       "\n",
       "    Procurement Category_NON-CONSULTING SERVICES  \\\n",
       "0                                              0   \n",
       "2                                              0   \n",
       "4                                              0   \n",
       "8                                              0   \n",
       "11                                             0   \n",
       "\n",
       "    Procurement Method_Comercial Practices  \\\n",
       "0                                        0   \n",
       "2                                        0   \n",
       "4                                        0   \n",
       "8                                        0   \n",
       "11                                       0   \n",
       "\n",
       "    Procurement Method_Commercial Practices  \\\n",
       "0                                         0   \n",
       "2                                         0   \n",
       "4                                         0   \n",
       "8                                         0   \n",
       "11                                        0   \n",
       "\n",
       "    Procurement Method_Community Driven Development  \\\n",
       "0                                                 0   \n",
       "2                                                 0   \n",
       "4                                                 0   \n",
       "8                                                 0   \n",
       "11                                                0   \n",
       "\n",
       "    Procurement Method_Consultant Qualification  Selection  \\\n",
       "0                                                   0        \n",
       "2                                                   0        \n",
       "4                                                   0        \n",
       "8                                                   0        \n",
       "11                                                  0        \n",
       "\n",
       "    Procurement Method_Direct Selection  Procurement Method_E-Auctions  ...  \\\n",
       "0                                     0                              0  ...   \n",
       "2                                     0                              0  ...   \n",
       "4                                     0                              0  ...   \n",
       "8                                     0                              0  ...   \n",
       "11                                    1                              0  ...   \n",
       "\n",
       "    December  February  January  July  June  March  May  November  October  \\\n",
       "0          0         0        0     0     0      0    0         1        0   \n",
       "2          0         0        0     0     0      0    0         0        0   \n",
       "4          0         0        0     1     0      0    0         0        0   \n",
       "8          0         0        0     0     0      0    0         0        0   \n",
       "11         0         0        0     1     0      0    0         0        0   \n",
       "\n",
       "    September  \n",
       "0           0  \n",
       "2           1  \n",
       "4           0  \n",
       "8           0  \n",
       "11          0  \n",
       "\n",
       "[5 rows x 149 columns]"
      ]
     },
     "execution_count": 63,
     "metadata": {},
     "output_type": "execute_result"
    }
   ],
   "source": [
    "X = X.join(dummy_df)\n",
    "X.head(5)"
   ]
  },
  {
   "cell_type": "code",
   "execution_count": 64,
   "metadata": {},
   "outputs": [],
   "source": [
    "## Store purely numerical variables\n",
    "numWB = WBContracts['Total Contract Amount (USD)']"
   ]
  },
  {
   "cell_type": "code",
   "execution_count": 65,
   "metadata": {},
   "outputs": [
    {
     "data": {
      "text/html": [
       "<div>\n",
       "<style scoped>\n",
       "    .dataframe tbody tr th:only-of-type {\n",
       "        vertical-align: middle;\n",
       "    }\n",
       "\n",
       "    .dataframe tbody tr th {\n",
       "        vertical-align: top;\n",
       "    }\n",
       "\n",
       "    .dataframe thead th {\n",
       "        text-align: right;\n",
       "    }\n",
       "</style>\n",
       "<table border=\"1\" class=\"dataframe\">\n",
       "  <thead>\n",
       "    <tr style=\"text-align: right;\">\n",
       "      <th></th>\n",
       "      <th>Procurement Category_CIVIL WORKS</th>\n",
       "      <th>Procurement Category_CONSULTANT SERVICES</th>\n",
       "      <th>Procurement Category_GOODS</th>\n",
       "      <th>Procurement Category_NON-CONSULTING SERVICES</th>\n",
       "      <th>Procurement Method_Comercial Practices</th>\n",
       "      <th>Procurement Method_Commercial Practices</th>\n",
       "      <th>Procurement Method_Community Driven Development</th>\n",
       "      <th>Procurement Method_Consultant Qualification  Selection</th>\n",
       "      <th>Procurement Method_Direct Selection</th>\n",
       "      <th>Procurement Method_E-Auctions</th>\n",
       "      <th>...</th>\n",
       "      <th>February</th>\n",
       "      <th>January</th>\n",
       "      <th>July</th>\n",
       "      <th>June</th>\n",
       "      <th>March</th>\n",
       "      <th>May</th>\n",
       "      <th>November</th>\n",
       "      <th>October</th>\n",
       "      <th>September</th>\n",
       "      <th>Total Contract Amount (USD)</th>\n",
       "    </tr>\n",
       "  </thead>\n",
       "  <tbody>\n",
       "    <tr>\n",
       "      <th>0</th>\n",
       "      <td>0</td>\n",
       "      <td>1</td>\n",
       "      <td>0</td>\n",
       "      <td>0</td>\n",
       "      <td>0</td>\n",
       "      <td>0</td>\n",
       "      <td>0</td>\n",
       "      <td>0</td>\n",
       "      <td>0</td>\n",
       "      <td>0</td>\n",
       "      <td>...</td>\n",
       "      <td>0</td>\n",
       "      <td>0</td>\n",
       "      <td>0</td>\n",
       "      <td>0</td>\n",
       "      <td>0</td>\n",
       "      <td>0</td>\n",
       "      <td>1</td>\n",
       "      <td>0</td>\n",
       "      <td>0</td>\n",
       "      <td>800000.00</td>\n",
       "    </tr>\n",
       "    <tr>\n",
       "      <th>2</th>\n",
       "      <td>0</td>\n",
       "      <td>1</td>\n",
       "      <td>0</td>\n",
       "      <td>0</td>\n",
       "      <td>0</td>\n",
       "      <td>0</td>\n",
       "      <td>0</td>\n",
       "      <td>0</td>\n",
       "      <td>0</td>\n",
       "      <td>0</td>\n",
       "      <td>...</td>\n",
       "      <td>0</td>\n",
       "      <td>0</td>\n",
       "      <td>0</td>\n",
       "      <td>0</td>\n",
       "      <td>0</td>\n",
       "      <td>0</td>\n",
       "      <td>0</td>\n",
       "      <td>0</td>\n",
       "      <td>1</td>\n",
       "      <td>1964921.66</td>\n",
       "    </tr>\n",
       "    <tr>\n",
       "      <th>4</th>\n",
       "      <td>0</td>\n",
       "      <td>1</td>\n",
       "      <td>0</td>\n",
       "      <td>0</td>\n",
       "      <td>0</td>\n",
       "      <td>0</td>\n",
       "      <td>0</td>\n",
       "      <td>0</td>\n",
       "      <td>0</td>\n",
       "      <td>0</td>\n",
       "      <td>...</td>\n",
       "      <td>0</td>\n",
       "      <td>0</td>\n",
       "      <td>1</td>\n",
       "      <td>0</td>\n",
       "      <td>0</td>\n",
       "      <td>0</td>\n",
       "      <td>0</td>\n",
       "      <td>0</td>\n",
       "      <td>0</td>\n",
       "      <td>178601.56</td>\n",
       "    </tr>\n",
       "    <tr>\n",
       "      <th>8</th>\n",
       "      <td>0</td>\n",
       "      <td>1</td>\n",
       "      <td>0</td>\n",
       "      <td>0</td>\n",
       "      <td>0</td>\n",
       "      <td>0</td>\n",
       "      <td>0</td>\n",
       "      <td>0</td>\n",
       "      <td>0</td>\n",
       "      <td>0</td>\n",
       "      <td>...</td>\n",
       "      <td>0</td>\n",
       "      <td>0</td>\n",
       "      <td>0</td>\n",
       "      <td>0</td>\n",
       "      <td>0</td>\n",
       "      <td>0</td>\n",
       "      <td>0</td>\n",
       "      <td>0</td>\n",
       "      <td>0</td>\n",
       "      <td>458778.40</td>\n",
       "    </tr>\n",
       "    <tr>\n",
       "      <th>11</th>\n",
       "      <td>0</td>\n",
       "      <td>0</td>\n",
       "      <td>1</td>\n",
       "      <td>0</td>\n",
       "      <td>0</td>\n",
       "      <td>0</td>\n",
       "      <td>0</td>\n",
       "      <td>0</td>\n",
       "      <td>1</td>\n",
       "      <td>0</td>\n",
       "      <td>...</td>\n",
       "      <td>0</td>\n",
       "      <td>0</td>\n",
       "      <td>1</td>\n",
       "      <td>0</td>\n",
       "      <td>0</td>\n",
       "      <td>0</td>\n",
       "      <td>0</td>\n",
       "      <td>0</td>\n",
       "      <td>0</td>\n",
       "      <td>197966.50</td>\n",
       "    </tr>\n",
       "  </tbody>\n",
       "</table>\n",
       "<p>5 rows × 150 columns</p>\n",
       "</div>"
      ],
      "text/plain": [
       "    Procurement Category_CIVIL WORKS  \\\n",
       "0                                  0   \n",
       "2                                  0   \n",
       "4                                  0   \n",
       "8                                  0   \n",
       "11                                 0   \n",
       "\n",
       "    Procurement Category_CONSULTANT SERVICES  Procurement Category_GOODS  \\\n",
       "0                                          1                           0   \n",
       "2                                          1                           0   \n",
       "4                                          1                           0   \n",
       "8                                          1                           0   \n",
       "11                                         0                           1   \n",
       "\n",
       "    Procurement Category_NON-CONSULTING SERVICES  \\\n",
       "0                                              0   \n",
       "2                                              0   \n",
       "4                                              0   \n",
       "8                                              0   \n",
       "11                                             0   \n",
       "\n",
       "    Procurement Method_Comercial Practices  \\\n",
       "0                                        0   \n",
       "2                                        0   \n",
       "4                                        0   \n",
       "8                                        0   \n",
       "11                                       0   \n",
       "\n",
       "    Procurement Method_Commercial Practices  \\\n",
       "0                                         0   \n",
       "2                                         0   \n",
       "4                                         0   \n",
       "8                                         0   \n",
       "11                                        0   \n",
       "\n",
       "    Procurement Method_Community Driven Development  \\\n",
       "0                                                 0   \n",
       "2                                                 0   \n",
       "4                                                 0   \n",
       "8                                                 0   \n",
       "11                                                0   \n",
       "\n",
       "    Procurement Method_Consultant Qualification  Selection  \\\n",
       "0                                                   0        \n",
       "2                                                   0        \n",
       "4                                                   0        \n",
       "8                                                   0        \n",
       "11                                                  0        \n",
       "\n",
       "    Procurement Method_Direct Selection  Procurement Method_E-Auctions  ...  \\\n",
       "0                                     0                              0  ...   \n",
       "2                                     0                              0  ...   \n",
       "4                                     0                              0  ...   \n",
       "8                                     0                              0  ...   \n",
       "11                                    1                              0  ...   \n",
       "\n",
       "    February  January  July  June  March  May  November  October  September  \\\n",
       "0          0        0     0     0      0    0         1        0          0   \n",
       "2          0        0     0     0      0    0         0        0          1   \n",
       "4          0        0     1     0      0    0         0        0          0   \n",
       "8          0        0     0     0      0    0         0        0          0   \n",
       "11         0        0     1     0      0    0         0        0          0   \n",
       "\n",
       "    Total Contract Amount (USD)  \n",
       "0                     800000.00  \n",
       "2                    1964921.66  \n",
       "4                     178601.56  \n",
       "8                     458778.40  \n",
       "11                    197966.50  \n",
       "\n",
       "[5 rows x 150 columns]"
      ]
     },
     "execution_count": 65,
     "metadata": {},
     "output_type": "execute_result"
    }
   ],
   "source": [
    "#Join the contract amount as well\n",
    "X = X.join(numWB)\n",
    "X.head(5)"
   ]
  },
  {
   "cell_type": "code",
   "execution_count": 65,
   "metadata": {},
   "outputs": [],
   "source": [
    "## Feature collapsing"
   ]
  },
  {
   "cell_type": "code",
   "execution_count": 66,
   "metadata": {},
   "outputs": [],
   "source": [
    "medical = X[\"Procurement Type_Equipment, Medical\"] + X[\"Procurement Type_Pharmaceuticals, Medical Products\"]\n",
    "X[\"Procurement Type_Medical\"] = medical"
   ]
  },
  {
   "cell_type": "code",
   "execution_count": 67,
   "metadata": {},
   "outputs": [],
   "source": [
    "health = X['Major Sector_(H)Health & social'] + X['Major Sector_Health']\n",
    "X[\"Major Sector_Health&Social\"] = health"
   ]
  },
  {
   "cell_type": "code",
   "execution_count": 68,
   "metadata": {},
   "outputs": [],
   "source": [
    "X = X.drop(columns=['Procurement Type_Equipment, Medical',\n",
    "       'Procurement Type_Pharmaceuticals, Medical Products', \n",
    "        'Major Sector_(H)Health & social', \n",
    "        'Major Sector_Health'])"
   ]
  },
  {
   "cell_type": "markdown",
   "metadata": {},
   "source": [
    "## Split Train/Test"
   ]
  },
  {
   "cell_type": "code",
   "execution_count": 69,
   "metadata": {},
   "outputs": [
    {
     "name": "stdout",
     "output_type": "stream",
     "text": [
      "2\n"
     ]
    }
   ],
   "source": [
    "# We use 80% of the values for training and 20% for testing \n",
    "\n",
    "Y = (Y > 0)*1\n",
    "nb_class = len(set(Y))\n",
    "print(nb_class)\n",
    "id_Train = np.array([None]*nb_class)\n",
    "id_Test = np.array([None]*nb_class)\n",
    "for i in range(nb_class):\n",
    "    id_i = np.where(Y==i)[0]\n",
    "    id_i_train, id_i_test = train_test_split(id_i, test_size=0.2, random_state=0, shuffle=True)\n",
    "    id_Train[i] = id_i_train\n",
    "    id_Test[i] = id_i_test"
   ]
  },
  {
   "cell_type": "code",
   "execution_count": 70,
   "metadata": {},
   "outputs": [],
   "source": [
    "id_Train = np.concatenate(id_Train)\n",
    "id_Test = np.concatenate(id_Test)"
   ]
  },
  {
   "cell_type": "code",
   "execution_count": 71,
   "metadata": {},
   "outputs": [],
   "source": [
    "X_train = X.iloc[id_Train]\n",
    "Y_train = Y.iloc[id_Train]\n",
    "X_test = X.iloc[id_Test]\n",
    "Y_test = Y.iloc[id_Test]"
   ]
  },
  {
   "cell_type": "code",
   "execution_count": 72,
   "metadata": {},
   "outputs": [
    {
     "data": {
      "text/plain": [
       "137939"
      ]
     },
     "execution_count": 72,
     "metadata": {},
     "output_type": "execute_result"
    }
   ],
   "source": [
    "len(X_train)\n",
    "# The training set now has 137 939 rows (80% of 170k)"
   ]
  },
  {
   "cell_type": "code",
   "execution_count": 73,
   "metadata": {},
   "outputs": [
    {
     "data": {
      "text/plain": [
       "34485"
      ]
     },
     "execution_count": 73,
     "metadata": {},
     "output_type": "execute_result"
    }
   ],
   "source": [
    "len(X_test)"
   ]
  },
  {
   "cell_type": "code",
   "execution_count": 74,
   "metadata": {},
   "outputs": [
    {
     "data": {
      "text/plain": [
       "<bound method IndexOpsMixin.value_counts of 40504     0\n",
       "106328    0\n",
       "232961    0\n",
       "116048    0\n",
       "212758    0\n",
       "         ..\n",
       "176763    1\n",
       "154982    1\n",
       "128122    1\n",
       "73423     1\n",
       "147601    1\n",
       "Name: Match, Length: 137939, dtype: int64>"
      ]
     },
     "execution_count": 74,
     "metadata": {},
     "output_type": "execute_result"
    }
   ],
   "source": [
    "Y_train.value_counts"
   ]
  },
  {
   "cell_type": "markdown",
   "metadata": {},
   "source": [
    "## Model Selection"
   ]
  },
  {
   "cell_type": "code",
   "execution_count": 81,
   "metadata": {},
   "outputs": [],
   "source": [
    "import collections\n",
    "from collections import Counter\n",
    "from sklearn import model_selection\n",
    "from sklearn import metrics\n",
    "import os\n",
    "from sklearn import tree\n",
    "import matplotlib.pyplot as plt\n",
    "from sklearn.decomposition import PCA\n",
    "from sklearn.preprocessing import StandardScaler\n",
    "from sklearn.metrics import precision_recall_fscore_support as score\n",
    "from sklearn.metrics import accuracy_score as acs\n",
    "import seaborn as sns\n",
    "import pickle\n",
    "from sklearn.metrics import classification_report, confusion_matrix, accuracy_score"
   ]
  },
  {
   "cell_type": "code",
   "execution_count": 82,
   "metadata": {},
   "outputs": [],
   "source": [
    "from imblearn.ensemble import BalancedRandomForestClassifier\n",
    "from imblearn.ensemble import EasyEnsembleClassifier\n",
    "from imblearn.ensemble import BalancedBaggingClassifier"
   ]
  },
  {
   "cell_type": "code",
   "execution_count": 83,
   "metadata": {},
   "outputs": [],
   "source": [
    "models = []\n",
    "models.append(('BRFC', BalancedRandomForestClassifier (random_state=42)))\n",
    "models.append(('EEC', EasyEnsembleClassifier (random_state=42)))\n",
    "models.append(('BBC', BalancedBaggingClassifier (random_state=42)))"
   ]
  },
  {
   "cell_type": "code",
   "execution_count": 84,
   "metadata": {},
   "outputs": [
    {
     "name": "stdout",
     "output_type": "stream",
     "text": [
      "BRFC: 0.006297 0.846154 0.012501 0.748035\n",
      "EEC: 0.004380 0.846154 0.008714 0.637147\n",
      "BBC: 0.007211 0.538462 0.014231 0.859388\n"
     ]
    }
   ],
   "source": [
    "results = []\n",
    "names = []\n",
    "for name, model in models:\n",
    "    model = model.fit(X_train, Y_train)\n",
    "    y_pred = model.predict(X_test)\n",
    "    precision, recall, fscore, train_support = score(Y_test, y_pred, pos_label=1, average='binary')\n",
    "    accuracy = acs(Y_test,y_pred)\n",
    "    results.append(recall)\n",
    "    results.append(fscore)\n",
    "    results.append(accuracy)\n",
    "    names.append(name)\n",
    "    msg = \"%s: %f %f %f %f\" % (name, precision.mean(), recall.mean(), fscore.mean(), accuracy.mean())\n",
    "    print(msg)"
   ]
  },
  {
   "cell_type": "code",
   "execution_count": 85,
   "metadata": {},
   "outputs": [],
   "source": [
    "## Parameter Tuning \n",
    "n_estimators = [100, 200, 300, 400, 500]\n",
    "max_features = ['auto', 'sqrt']\n",
    "max_depth = [5, 10, 20, 30, 40, 50, 80, None]\n",
    "min_samples_split = [2, 5, 10]\n",
    "min_samples_leaf = [1, 2, 4]\n",
    "bootstrap = [True, False]\n",
    "        \n",
    "random_grid = {'n_estimators': n_estimators,\n",
    "                'max_features': max_features,\n",
    "                'max_depth': max_depth,\n",
    "                'min_samples_split': min_samples_split,\n",
    "                'min_samples_leaf': min_samples_leaf,\n",
    "                'bootstrap': bootstrap}\n",
    "        "
   ]
  },
  {
   "cell_type": "code",
   "execution_count": 76,
   "metadata": {},
   "outputs": [
    {
     "data": {
      "text/plain": [
       "{'n_estimators': 200,\n",
       " 'min_samples_split': 2,\n",
       " 'min_samples_leaf': 1,\n",
       " 'max_features': 'sqrt',\n",
       " 'max_depth': 40,\n",
       " 'bootstrap': False}"
      ]
     },
     "execution_count": 76,
     "metadata": {},
     "output_type": "execute_result"
    }
   ],
   "source": [
    "from sklearn.model_selection import RandomizedSearchCV\n",
    "## Parameter search\n",
    "# Use the random grid to search for best hyperparameters\n",
    "    # First create the base model to tune\n",
    "model = BalancedRandomForestClassifier()\n",
    "    # Random search of parameters, using 3 fold cross validation, \n",
    "    # search across 100 different combinations, and use all available cores\n",
    "model_tuned = RandomizedSearchCV(estimator = model, param_distributions = random_grid, n_iter = 2, cv = 2, verbose=0, random_state=42, n_jobs = -1)\n",
    "    # Fit the random search model\n",
    "model_tuned.fit(X_train, Y_train)\n",
    "\n",
    "model_tuned.best_params_"
   ]
  },
  {
   "cell_type": "code",
   "execution_count": 77,
   "metadata": {},
   "outputs": [],
   "source": [
    "models = []\n",
    "models.append(('BRFC', BalancedRandomForestClassifier (random_state=42, n_estimators=200, min_samples_split=2,\n",
    "                                                      min_samples_leaf=1, max_features='sqrt', max_depth=40, bootstrap=False)))"
   ]
  },
  {
   "cell_type": "code",
   "execution_count": 78,
   "metadata": {},
   "outputs": [
    {
     "name": "stdout",
     "output_type": "stream",
     "text": [
      "BRFC: 0.006877 0.892308 0.013649 0.756909\n"
     ]
    }
   ],
   "source": [
    "results = []\n",
    "names = []\n",
    "for name, model in models:\n",
    "    model = model.fit(X_train, Y_train)\n",
    "    y_pred = model.predict(X_test)\n",
    "    precision, recall, fscore, train_support = score(Y_test, y_pred, pos_label=1, average='binary')\n",
    "    accuracy = acs(Y_test,y_pred)\n",
    "    results.append(recall)\n",
    "    results.append(fscore)\n",
    "    results.append(accuracy)\n",
    "    names.append(name)\n",
    "    msg = \"%s: %f %f %f %f\" % (name, precision.mean(), recall.mean(), fscore.mean(), accuracy.mean())\n",
    "    print(msg)"
   ]
  },
  {
   "cell_type": "markdown",
   "metadata": {},
   "source": [
    "## Final Model "
   ]
  },
  {
   "cell_type": "code",
   "execution_count": 86,
   "metadata": {},
   "outputs": [
    {
     "name": "stdout",
     "output_type": "stream",
     "text": [
      "Precision: 0.006 / Recall: 0.846 / F1-Score: 0.013 / Accuracy: 0.748\n"
     ]
    }
   ],
   "source": [
    "## change the decision threshold\n",
    "## check which variables are most important\n",
    "\n",
    "model = BalancedRandomForestClassifier(random_state=42)\n",
    "model = model.fit(X_train, Y_train)\n",
    "y_pred = model.predict(X_test)\n",
    "\n",
    "precision, recall, fscore, train_support = score(Y_test, y_pred, pos_label=1, average='binary')\n",
    "print('Precision: {} / Recall: {} / F1-Score: {} / Accuracy: {}'.format(round(precision, 3), round(recall, 3), round(fscore,3), round(acs(Y_test,y_pred), 3)))"
   ]
  },
  {
   "cell_type": "code",
   "execution_count": 80,
   "metadata": {},
   "outputs": [
    {
     "data": {
      "image/png": "[encoded data removed]",
      "text/plain": [
       "<Figure size 432x288 with 2 Axes>"
      ]
     },
     "metadata": {
      "needs_background": "light"
     },
     "output_type": "display_data"
    }
   ],
   "source": [
    "from sklearn.metrics import confusion_matrix\n",
    "cm = confusion_matrix(Y_test, y_pred)\n",
    "class_label = [\"No\", \"Yes\"]\n",
    "df_cm = pd.DataFrame(cm, index=class_label,columns=class_label)\n",
    "sns.heatmap(df_cm, annot=True, fmt='d')\n",
    "plt.title(\"Confusion Matrix\")\n",
    "plt.xlabel(\"Predicted Label\")\n",
    "plt.ylabel(\"True Label\")\n",
    "#plt.savefig('Confusion Matrix.jpg', dpi=1200)\n",
    "plt.show()\n",
    "\n",
    "# The model only predicts 29 corrupt cases correctly "
   ]
  },
  {
   "cell_type": "markdown",
   "metadata": {},
   "source": [
    "## Feature Importance"
   ]
  },
  {
   "cell_type": "code",
   "execution_count": 87,
   "metadata": {},
   "outputs": [],
   "source": [
    "importances = model.feature_importances_\n",
    "std = np.std([tree.feature_importances_ for tree in model.estimators_],\n",
    "             axis=0)\n",
    "indices = np.argsort(importances)[::-1]"
   ]
  },
  {
   "cell_type": "code",
   "execution_count": 88,
   "metadata": {},
   "outputs": [
    {
     "name": "stdout",
     "output_type": "stream",
     "text": [
      "Feature ranking:\n",
      "1. feature 145 (0.234300)\n",
      "2. feature 14 (0.050397)\n",
      "3. feature 146 (0.042441)\n",
      "4. feature 13 (0.034283)\n",
      "5. feature 147 (0.025916)\n",
      "6. feature 20 (0.022958)\n",
      "7. feature 38 (0.019466)\n",
      "8. feature 39 (0.018032)\n",
      "9. feature 47 (0.017805)\n",
      "10. feature 45 (0.017095)\n",
      "11. feature 138 (0.016909)\n",
      "12. feature 2 (0.016543)\n",
      "13. feature 139 (0.015415)\n",
      "14. feature 143 (0.014936)\n",
      "15. feature 1 (0.014501)\n",
      "16. feature 37 (0.014473)\n",
      "17. feature 17 (0.014372)\n",
      "18. feature 48 (0.014301)\n",
      "19. feature 144 (0.014110)\n",
      "20. feature 135 (0.013954)\n",
      "21. feature 0 (0.013911)\n",
      "22. feature 137 (0.013779)\n",
      "23. feature 142 (0.013493)\n",
      "24. feature 133 (0.013394)\n",
      "25. feature 134 (0.013264)\n",
      "26. feature 140 (0.013174)\n",
      "27. feature 132 (0.013127)\n",
      "28. feature 57 (0.012680)\n",
      "29. feature 136 (0.012441)\n",
      "30. feature 104 (0.011976)\n",
      "31. feature 141 (0.011414)\n",
      "32. feature 28 (0.010867)\n",
      "33. feature 130 (0.010129)\n",
      "34. feature 72 (0.010109)\n",
      "35. feature 79 (0.009688)\n",
      "36. feature 92 (0.008887)\n",
      "37. feature 8 (0.008224)\n",
      "38. feature 107 (0.008127)\n",
      "39. feature 90 (0.007964)\n",
      "40. feature 99 (0.007354)\n",
      "41. feature 27 (0.007065)\n",
      "42. feature 40 (0.006788)\n",
      "43. feature 112 (0.006572)\n",
      "44. feature 64 (0.006005)\n",
      "45. feature 84 (0.005631)\n",
      "46. feature 7 (0.005576)\n",
      "47. feature 41 (0.005508)\n",
      "48. feature 22 (0.005324)\n",
      "49. feature 131 (0.004707)\n",
      "50. feature 106 (0.004645)\n",
      "51. feature 124 (0.004452)\n",
      "52. feature 83 (0.004125)\n",
      "53. feature 87 (0.003627)\n",
      "54. feature 117 (0.003507)\n",
      "55. feature 129 (0.003472)\n",
      "56. feature 109 (0.003223)\n",
      "57. feature 100 (0.003139)\n",
      "58. feature 43 (0.002915)\n",
      "59. feature 91 (0.002834)\n",
      "60. feature 21 (0.002769)\n",
      "61. feature 25 (0.002716)\n",
      "62. feature 42 (0.002669)\n",
      "63. feature 70 (0.002417)\n",
      "64. feature 52 (0.002386)\n",
      "65. feature 67 (0.002185)\n",
      "66. feature 15 (0.002103)\n",
      "67. feature 3 (0.002030)\n",
      "68. feature 118 (0.002012)\n",
      "69. feature 89 (0.001898)\n",
      "70. feature 81 (0.001675)\n",
      "71. feature 77 (0.001672)\n",
      "72. feature 75 (0.001575)\n",
      "73. feature 111 (0.001559)\n",
      "74. feature 102 (0.001455)\n",
      "75. feature 96 (0.001434)\n",
      "76. feature 10 (0.001419)\n",
      "77. feature 85 (0.001414)\n",
      "78. feature 65 (0.001398)\n",
      "79. feature 80 (0.001204)\n",
      "80. feature 78 (0.001137)\n",
      "81. feature 114 (0.001065)\n",
      "82. feature 93 (0.001028)\n",
      "83. feature 123 (0.000968)\n",
      "84. feature 127 (0.000854)\n",
      "85. feature 108 (0.000842)\n",
      "86. feature 58 (0.000805)\n",
      "87. feature 16 (0.000795)\n",
      "88. feature 105 (0.000709)\n",
      "89. feature 121 (0.000639)\n",
      "90. feature 97 (0.000627)\n",
      "91. feature 71 (0.000580)\n",
      "92. feature 69 (0.000575)\n",
      "93. feature 94 (0.000566)\n",
      "94. feature 98 (0.000535)\n",
      "95. feature 46 (0.000522)\n",
      "96. feature 128 (0.000521)\n",
      "97. feature 103 (0.000503)\n",
      "98. feature 26 (0.000477)\n",
      "99. feature 86 (0.000443)\n",
      "100. feature 68 (0.000413)\n",
      "101. feature 113 (0.000371)\n",
      "102. feature 122 (0.000365)\n",
      "103. feature 119 (0.000330)\n",
      "104. feature 110 (0.000283)\n",
      "105. feature 24 (0.000197)\n",
      "106. feature 29 (0.000125)\n",
      "107. feature 74 (0.000070)\n",
      "108. feature 56 (0.000067)\n",
      "109. feature 66 (0.000064)\n",
      "110. feature 59 (0.000062)\n",
      "111. feature 60 (0.000054)\n",
      "112. feature 95 (0.000032)\n",
      "113. feature 49 (0.000030)\n",
      "114. feature 88 (0.000018)\n",
      "115. feature 115 (0.000016)\n",
      "116. feature 5 (0.000000)\n",
      "117. feature 4 (0.000000)\n",
      "118. feature 18 (0.000000)\n",
      "119. feature 19 (0.000000)\n",
      "120. feature 12 (0.000000)\n",
      "121. feature 6 (0.000000)\n",
      "122. feature 9 (0.000000)\n",
      "123. feature 11 (0.000000)\n",
      "124. feature 126 (0.000000)\n",
      "125. feature 63 (0.000000)\n",
      "126. feature 23 (0.000000)\n",
      "127. feature 54 (0.000000)\n",
      "128. feature 120 (0.000000)\n",
      "129. feature 116 (0.000000)\n",
      "130. feature 101 (0.000000)\n",
      "131. feature 82 (0.000000)\n",
      "132. feature 76 (0.000000)\n",
      "133. feature 125 (0.000000)\n",
      "134. feature 62 (0.000000)\n",
      "135. feature 61 (0.000000)\n",
      "136. feature 55 (0.000000)\n",
      "137. feature 53 (0.000000)\n",
      "138. feature 30 (0.000000)\n",
      "139. feature 51 (0.000000)\n",
      "140. feature 50 (0.000000)\n",
      "141. feature 44 (0.000000)\n",
      "142. feature 36 (0.000000)\n",
      "143. feature 35 (0.000000)\n",
      "144. feature 34 (0.000000)\n",
      "145. feature 33 (0.000000)\n",
      "146. feature 32 (0.000000)\n",
      "147. feature 31 (0.000000)\n",
      "148. feature 73 (0.000000)\n"
     ]
    }
   ],
   "source": [
    "# Print the feature ranking\n",
    "print(\"Feature ranking:\")\n",
    "\n",
    "for f in range(X.shape[1]):\n",
    "    print(\"%d. feature %d (%f)\" % (f + 1, indices[f], importances[indices[f]]))"
   ]
  },
  {
   "cell_type": "code",
   "execution_count": 90,
   "metadata": {},
   "outputs": [
    {
     "data": {
      "text/plain": [
       "<matplotlib.axes._subplots.AxesSubplot at 0x7fe912466810>"
      ]
     },
     "execution_count": 90,
     "metadata": {},
     "output_type": "execute_result"
    },
    {
     "data": {
      "image/png": "[encoded data removed]",
      "text/plain": [
       "<Figure size 432x288 with 1 Axes>"
      ]
     },
     "metadata": {
      "needs_background": "light"
     },
     "output_type": "display_data"
    }
   ],
   "source": [
    "(pd.Series(model.feature_importances_, index=X.columns)\n",
    "   .nlargest(9)\n",
    "   .plot(kind='barh'))"
   ]
  },
  {
   "cell_type": "markdown",
   "metadata": {},
   "source": [
    "## Partial Dependence Plots "
   ]
  },
  {
   "cell_type": "code",
   "execution_count": 91,
   "metadata": {},
   "outputs": [],
   "source": [
    "from sklearn.inspection import plot_partial_dependence"
   ]
  },
  {
   "cell_type": "code",
   "execution_count": 92,
   "metadata": {},
   "outputs": [
    {
     "data": {
      "image/png": "[encoded data removed]",
      "text/plain": [
       "<Figure size 432x288 with 2 Axes>"
      ]
     },
     "metadata": {
      "needs_background": "light"
     },
     "output_type": "display_data"
    }
   ],
   "source": [
    "# Total Contract Amount\n",
    "my_plots = plot_partial_dependence(model,       \n",
    "                                   features=[145], \n",
    "                                   X=X,            \n",
    "                                   grid_resolution=30) "
   ]
  },
  {
   "cell_type": "code",
   "execution_count": 93,
   "metadata": {},
   "outputs": [
    {
     "data": {
      "image/png": "[encoded data removed]",
      "text/plain": [
       "<Figure size 432x288 with 2 Axes>"
      ]
     },
     "metadata": {
      "needs_background": "light"
     },
     "output_type": "display_data"
    }
   ],
   "source": [
    "# International Competitive Bidding \n",
    "# They are dummy variables so it's just a straight line \n",
    "# But gives indication about the direction of the variable \n",
    "\n",
    "my_plots = plot_partial_dependence(model,       \n",
    "                                   features=[14], \n",
    "                                   X=X,           \n",
    "                                   grid_resolution=10) "
   ]
  },
  {
   "cell_type": "code",
   "execution_count": 94,
   "metadata": {},
   "outputs": [
    {
     "data": {
      "image/png": "[encoded data removed]",
      "text/plain": [
       "<Figure size 432x288 with 2 Axes>"
      ]
     },
     "metadata": {
      "needs_background": "light"
     },
     "output_type": "display_data"
    }
   ],
   "source": [
    "# Individual Consultant Selection\n",
    "my_plots = plot_partial_dependence(model,       \n",
    "                                   features=[13], \n",
    "                                   X=X,           \n",
    "                                   grid_resolution=10)"
   ]
  },
  {
   "cell_type": "code",
   "execution_count": 95,
   "metadata": {},
   "outputs": [
    {
     "data": {
      "image/png": "[encoded data removed]",
      "text/plain": [
       "<Figure size 432x288 with 2 Axes>"
      ]
     },
     "metadata": {
      "needs_background": "light"
     },
     "output_type": "display_data"
    }
   ],
   "source": [
    "# Quality and cost based selection\n",
    "my_plots = plot_partial_dependence(model,       \n",
    "                                   features=[20],\n",
    "                                   X=X,            \n",
    "                                   grid_resolution=10) "
   ]
  },
  {
   "cell_type": "code",
   "execution_count": 100,
   "metadata": {},
   "outputs": [
    {
     "data": {
      "image/png": "[encoded data removed]",
      "text/plain": [
       "<Figure size 432x288 with 3 Axes>"
      ]
     },
     "metadata": {
      "needs_background": "light"
     },
     "output_type": "display_data"
    }
   ],
   "source": [
    "# Health & Social\n",
    "# Education\n",
    "\n",
    "my_plots = plot_partial_dependence(model,       \n",
    "                                   features=[147, 38], \n",
    "                                   X=X,         \n",
    "                                   grid_resolution=10) "
   ]
  },
  {
   "cell_type": "code",
   "execution_count": 101,
   "metadata": {},
   "outputs": [
    {
     "data": {
      "image/png": "[encoded data removed]",
      "text/plain": [
       "<Figure size 432x288 with 3 Axes>"
      ]
     },
     "metadata": {
      "needs_background": "light"
     },
     "output_type": "display_data"
    }
   ],
   "source": [
    "# Energy & Extractives\n",
    "# Transportation\n",
    "\n",
    "my_plots = plot_partial_dependence(model,       \n",
    "                                   features=[39, 47], \n",
    "                                   X=X,           \n",
    "                                   grid_resolution=10) "
   ]
  },
  {
   "cell_type": "code",
   "execution_count": null,
   "metadata": {},
   "outputs": [],
   "source": []
  },
  {
   "cell_type": "markdown",
   "metadata": {},
   "source": [
    "## First attempt at Re-Sampling"
   ]
  },
  {
   "cell_type": "code",
   "execution_count": null,
   "metadata": {},
   "outputs": [],
   "source": [
    "## This was my first re-sampling strategy which I ended up not using \n",
    "## With this re-sampling "
   ]
  },
  {
   "cell_type": "code",
   "execution_count": 93,
   "metadata": {},
   "outputs": [],
   "source": [
    "# Target variable is highly unbalanced: Ratio of 530 to 1\n",
    "# I would like to move to a ratio of 100:1\n",
    "# Moving to a 1:1 ratio is too far from reality "
   ]
  },
  {
   "cell_type": "code",
   "execution_count": 75,
   "metadata": {},
   "outputs": [
    {
     "name": "stdout",
     "output_type": "stream",
     "text": [
      "before resampling\n",
      "[137679, 260]\n",
      "after resampling\n",
      "[69466, 1385]\n"
     ]
    }
   ],
   "source": [
    "# We rebalance the training set\n",
    "# Here, we undersample a little bit the number of 0 observations from 137 679 to 136 966 \n",
    "# We also oversample the number of 1 observations from 260 to 1385 (multiplication by 5)\n",
    "# Used 900 for the OG model and +75 ##\n",
    "# 200 and 250 gives balanced dataset\n",
    "\n",
    "id_toTrain = np.array([np.where(Y_train==i)[0] for i in range(nb_class)])\n",
    "\n",
    "size_max = [len(id_toTrain[i]) for i in range(nb_class)]\n",
    "print(\"before resampling\")\n",
    "print(size_max)\n",
    "\n",
    "blc = 900 ## change this\n",
    "for i in range(len(size_max)):\n",
    "    if size_max[i] > blc:\n",
    "        size_max[i] = int(blc*(np.log10(size_max[i]/blc)+75)) # changing this only reduces the 0 observations\n",
    "    else:\n",
    "        size_max[i] = int(blc/(np.log10(blc/size_max[i]+1)))\n",
    "\n",
    "print(\"after resampling\")\n",
    "print(size_max)\n",
    "for i in range(nb_class):\n",
    "    if len(id_toTrain[i]) > size_max[i]:\n",
    "        id_toTrain[i], tmp = train_test_split(id_toTrain[i], test_size=1-size_max[i]/len(id_toTrain[i]))\n",
    "    else:\n",
    "        id_toTrain[i] = np.concatenate((id_toTrain[i], id_toTrain[i][np.random.randint(len(id_toTrain[i]), size=int(size_max[i]-len(id_toTrain[i])))]))\n",
    "id_toTrain = np.concatenate(id_toTrain)\n",
    "X_toTrain = X_train.iloc[id_toTrain]\n",
    "Y_toTrain = Y_train.iloc[id_toTrain]\n",
    "\n",
    "# The ratio was 530:1 and now it is 98:1\n",
    "# Now it is 60 to 1"
   ]
  },
  {
   "cell_type": "code",
   "execution_count": 76,
   "metadata": {},
   "outputs": [
    {
     "name": "stdout",
     "output_type": "stream",
     "text": [
      "before resampling\n",
      "[34420, 65]\n",
      "after resampling\n",
      "[16447, 327]\n"
     ]
    }
   ],
   "source": [
    "# In order totrain my model I will now also rebalance the test set\n",
    "# I change the blc to have less rows \n",
    "# In the end I will test my final model on un unbalanced test set\n",
    "# 200 and +90\n",
    "\n",
    "id_toTest = np.array([np.where(Y_test==i)[0] for i in range(nb_class)])\n",
    "\n",
    "size_max = [len(id_toTest[i]) for i in range(nb_class)]\n",
    "print(\"before resampling\")\n",
    "print(size_max)\n",
    "\n",
    "blc = 200\n",
    "for i in range(len(size_max)):\n",
    "    if size_max[i] > blc:\n",
    "        size_max[i] = int(blc*(np.log10(size_max[i]/blc)+80)) ## first is 150 for oversampling \n",
    "    else:\n",
    "        size_max[i] = int(blc/(np.log10(blc/size_max[i]+1)))\n",
    "\n",
    "print(\"after resampling\")\n",
    "print(size_max)\n",
    "for i in range(nb_class):\n",
    "    if len(id_toTest[i]) > size_max[i]:\n",
    "        id_toTest[i], tmp = train_test_split(id_toTest[i], test_size=1-size_max[i]/len(id_toTest[i]))\n",
    "    else:\n",
    "        id_toTest[i] = np.concatenate((id_toTest[i], id_toTest[i][np.random.randint(len(id_toTest[i]), size=int(size_max[i]-len(id_toTest[i])))]))\n",
    "id_toTest = np.concatenate(id_toTest)\n",
    "X_toTest = X_test.iloc[id_toTest]\n",
    "Y_toTest = Y_test.iloc[id_toTest]\n",
    "\n",
    "# The ratio for the test set is 93:1\n",
    "# Now is around 60 to 1"
   ]
  },
  {
   "cell_type": "markdown",
   "metadata": {},
   "source": [
    "## Feature Selection"
   ]
  },
  {
   "cell_type": "code",
   "execution_count": null,
   "metadata": {},
   "outputs": [],
   "source": [
    "## I end up also not using feature selection because my final model does it for me"
   ]
  },
  {
   "cell_type": "code",
   "execution_count": 77,
   "metadata": {},
   "outputs": [],
   "source": [
    "from sklearn.feature_selection import SelectKBest, chi2"
   ]
  },
  {
   "cell_type": "code",
   "execution_count": 78,
   "metadata": {},
   "outputs": [],
   "source": [
    "fs = SelectKBest(score_func=chi2, k='all')\n",
    "fs.fit(X_train, Y_train)\n",
    "X_train_fs = fs.transform(X_train)\n",
    "X_test_fs = fs.transform(X_test)"
   ]
  },
  {
   "cell_type": "code",
   "execution_count": 79,
   "metadata": {},
   "outputs": [
    {
     "name": "stdout",
     "output_type": "stream",
     "text": [
      "Feature 0: 3.681497\n",
      "Feature 1: 19.016617\n",
      "Feature 2: 20.044326\n",
      "Feature 3: 0.090621\n",
      "Feature 4: 0.001888\n",
      "Feature 5: nan\n",
      "Feature 6: 0.013219\n",
      "Feature 7: 1.646880\n",
      "Feature 8: 9.417565\n",
      "Feature 9: 0.007554\n",
      "Feature 10: 0.184247\n",
      "Feature 11: 0.028327\n",
      "Feature 12: 0.001888\n",
      "Feature 13: 43.375823\n",
      "Feature 14: 129.805201\n",
      "Feature 15: 0.152549\n",
      "Feature 16: 1.406896\n",
      "Feature 17: 4.765024\n",
      "Feature 18: 0.003777\n",
      "Feature 19: 0.001888\n",
      "Feature 20: 23.011083\n",
      "Feature 21: 0.155413\n",
      "Feature 22: 7.161005\n",
      "Feature 23: 0.033992\n",
      "Feature 24: 0.704392\n",
      "Feature 25: 0.177206\n",
      "Feature 26: 0.570312\n",
      "Feature 27: 0.226043\n",
      "Feature 28: 19.742404\n",
      "Feature 29: 0.219060\n",
      "Feature 30: 0.003777\n",
      "Feature 31: 0.013219\n",
      "Feature 32: 0.016996\n",
      "Feature 33: 0.001888\n",
      "Feature 34: 0.043434\n",
      "Feature 35: nan\n",
      "Feature 36: 0.005665\n",
      "Feature 37: 8.357397\n",
      "Feature 38: 17.761013\n",
      "Feature 39: 7.272398\n",
      "Feature 40: 0.515665\n",
      "Feature 41: 0.354958\n",
      "Feature 42: 4.249014\n",
      "Feature 43: 5.310323\n",
      "Feature 44: 0.050988\n",
      "Feature 45: 5.588683\n",
      "Feature 46: 1.422003\n",
      "Feature 47: 10.041932\n",
      "Feature 48: 0.029823\n",
      "Feature 49: 0.781819\n",
      "Feature 50: 0.007554\n",
      "Feature 51: 0.001888\n",
      "Feature 52: 3.119095\n",
      "Feature 53: 0.328590\n",
      "Feature 54: 0.043434\n",
      "Feature 55: 0.039657\n",
      "Feature 56: 0.092534\n",
      "Feature 57: 3.319188\n",
      "Feature 58: 3.148047\n",
      "Feature 59: 0.149188\n",
      "Feature 60: 0.198287\n",
      "Feature 61: 0.098199\n",
      "Feature 62: 0.039657\n",
      "Feature 63: 0.009442\n",
      "Feature 64: 11.544696\n",
      "Feature 65: 1.179953\n",
      "Feature 66: 0.198287\n",
      "Feature 67: 5.523718\n",
      "Feature 68: 35.989555\n",
      "Feature 69: 0.981994\n",
      "Feature 70: 0.243781\n",
      "Feature 71: 1.074528\n",
      "Feature 72: 7.055427\n",
      "Feature 73: nan\n",
      "Feature 74: 0.173737\n",
      "Feature 75: 0.191965\n",
      "Feature 76: 0.001888\n",
      "Feature 77: 0.376094\n",
      "Feature 78: 0.326577\n",
      "Feature 79: 0.232778\n",
      "Feature 80: 2.228372\n",
      "Feature 81: 0.157830\n",
      "Feature 82: 0.003777\n",
      "Feature 83: 3.183782\n",
      "Feature 84: 0.817796\n",
      "Feature 85: 0.084834\n",
      "Feature 86: 0.594862\n",
      "Feature 87: 0.755775\n",
      "Feature 88: 0.122749\n",
      "Feature 89: 0.136688\n",
      "Feature 90: 7.661444\n",
      "Feature 91: 0.367412\n",
      "Feature 92: 10.441454\n",
      "Feature 93: 3.680590\n",
      "Feature 94: 0.490997\n",
      "Feature 95: 0.324814\n",
      "Feature 96: 0.191871\n",
      "Feature 97: 2.649496\n",
      "Feature 98: 1.761924\n",
      "Feature 99: 1.940340\n",
      "Feature 100: 1.536614\n",
      "Feature 101: 0.009442\n",
      "Feature 102: 0.525647\n",
      "Feature 103: 1.008433\n",
      "Feature 104: 1.205776\n",
      "Feature 105: 0.897014\n",
      "Feature 106: 1.006483\n",
      "Feature 107: 9.539190\n",
      "Feature 108: 0.119395\n",
      "Feature 109: 0.256846\n",
      "Feature 110: 0.434344\n",
      "Feature 111: 3.003960\n",
      "Feature 112: 10.075147\n",
      "Feature 113: 0.606193\n",
      "Feature 114: 0.266899\n",
      "Feature 115: 0.236056\n",
      "Feature 116: 0.020773\n",
      "Feature 117: 0.208790\n",
      "Feature 118: 3.317507\n",
      "Feature 119: 0.587308\n",
      "Feature 120: 0.103865\n",
      "Feature 121: 1.031094\n",
      "Feature 122: 0.732719\n",
      "Feature 123: 2.723607\n",
      "Feature 124: 4.053214\n",
      "Feature 125: 0.041546\n",
      "Feature 126: 0.069873\n",
      "Feature 127: 27.560021\n",
      "Feature 128: 0.328590\n",
      "Feature 129: 0.687375\n",
      "Feature 130: 0.632154\n",
      "Feature 131: 0.510411\n",
      "Feature 132: 7.798071\n",
      "Feature 133: 1.695165\n",
      "Feature 134: 1.037556\n",
      "Feature 135: 2.150081\n",
      "Feature 136: 0.005064\n",
      "Feature 137: 0.820917\n",
      "Feature 138: 12.619262\n",
      "Feature 139: 0.307002\n",
      "Feature 140: 1.225188\n",
      "Feature 141: 0.057579\n",
      "Feature 142: 0.036398\n",
      "Feature 143: 1.965442\n",
      "Feature 144: 0.624166\n",
      "Feature 145: 344865079.911913\n",
      "Feature 146: 315.218643\n",
      "Feature 147: 48.293819\n"
     ]
    }
   ],
   "source": [
    "## This runs for all 147 columns \n",
    "## Clearly, the numerical variable: total contract amount is the most important \n",
    "\n",
    "for i in range(len(fs.scores_)):\n",
    "    print('Feature %d: %f' % (i, fs.scores_[i]))"
   ]
  },
  {
   "cell_type": "code",
   "execution_count": null,
   "metadata": {},
   "outputs": [],
   "source": [
    "from matplotlib import pyplot\n",
    "# plot the scores\n",
    "pyplot.bar([i for i in range(len(fs.scores_))], fs.scores_)\n",
    "pyplot.show()"
   ]
  },
  {
   "cell_type": "code",
   "execution_count": 62,
   "metadata": {},
   "outputs": [],
   "source": [
    "# Create and fit selector\n",
    "selector = SelectKBest(score_func=chi2, k=20)\n",
    "selector.fit(X_train, Y_train)\n",
    "\n",
    "# Get columns to keep and create new dataframe with those only\n",
    "cols = selector.get_support(indices=True)\n",
    "X_train_k = X_train.iloc[:,cols]"
   ]
  },
  {
   "cell_type": "code",
   "execution_count": 63,
   "metadata": {},
   "outputs": [
    {
     "data": {
      "text/html": [
       "<div>\n",
       "<style scoped>\n",
       "    .dataframe tbody tr th:only-of-type {\n",
       "        vertical-align: middle;\n",
       "    }\n",
       "\n",
       "    .dataframe tbody tr th {\n",
       "        vertical-align: top;\n",
       "    }\n",
       "\n",
       "    .dataframe thead th {\n",
       "        text-align: right;\n",
       "    }\n",
       "</style>\n",
       "<table border=\"1\" class=\"dataframe\">\n",
       "  <thead>\n",
       "    <tr style=\"text-align: right;\">\n",
       "      <th></th>\n",
       "      <th>Procurement Category_CONSULTANT SERVICES</th>\n",
       "      <th>Procurement Category_GOODS</th>\n",
       "      <th>Procurement Method_Direct Selection</th>\n",
       "      <th>Procurement Method_Individual Consultant Selection</th>\n",
       "      <th>Procurement Method_International Competitive Bidding</th>\n",
       "      <th>Procurement Method_Quality And Cost-Based Selection</th>\n",
       "      <th>Procurement Method_Single Source Selection</th>\n",
       "      <th>Major Sector_(H)Health &amp; social</th>\n",
       "      <th>Major Sector_Education</th>\n",
       "      <th>Major Sector_Health</th>\n",
       "      <th>Major Sector_Transportation</th>\n",
       "      <th>Product line_Recipient Executed Activities</th>\n",
       "      <th>Procurement Type_Equipment, Medical</th>\n",
       "      <th>Procurement Type_Feasibility Studies</th>\n",
       "      <th>Procurement Type_Not assigned</th>\n",
       "      <th>Procurement Type_Pharmaceuticals, Medical Products</th>\n",
       "      <th>Procurement Type_Unidentified Works Type</th>\n",
       "      <th>July</th>\n",
       "    </tr>\n",
       "  </thead>\n",
       "  <tbody>\n",
       "    <tr>\n",
       "      <th>148405</th>\n",
       "      <td>1</td>\n",
       "      <td>0</td>\n",
       "      <td>0</td>\n",
       "      <td>1</td>\n",
       "      <td>0</td>\n",
       "      <td>0</td>\n",
       "      <td>0</td>\n",
       "      <td>0</td>\n",
       "      <td>0</td>\n",
       "      <td>0</td>\n",
       "      <td>0</td>\n",
       "      <td>1</td>\n",
       "      <td>0</td>\n",
       "      <td>0</td>\n",
       "      <td>0</td>\n",
       "      <td>0</td>\n",
       "      <td>0</td>\n",
       "      <td>0</td>\n",
       "    </tr>\n",
       "    <tr>\n",
       "      <th>126069</th>\n",
       "      <td>0</td>\n",
       "      <td>0</td>\n",
       "      <td>0</td>\n",
       "      <td>0</td>\n",
       "      <td>0</td>\n",
       "      <td>0</td>\n",
       "      <td>0</td>\n",
       "      <td>1</td>\n",
       "      <td>0</td>\n",
       "      <td>0</td>\n",
       "      <td>0</td>\n",
       "      <td>0</td>\n",
       "      <td>0</td>\n",
       "      <td>0</td>\n",
       "      <td>0</td>\n",
       "      <td>0</td>\n",
       "      <td>0</td>\n",
       "      <td>0</td>\n",
       "    </tr>\n",
       "    <tr>\n",
       "      <th>4038</th>\n",
       "      <td>1</td>\n",
       "      <td>0</td>\n",
       "      <td>0</td>\n",
       "      <td>0</td>\n",
       "      <td>0</td>\n",
       "      <td>0</td>\n",
       "      <td>1</td>\n",
       "      <td>0</td>\n",
       "      <td>0</td>\n",
       "      <td>0</td>\n",
       "      <td>0</td>\n",
       "      <td>0</td>\n",
       "      <td>0</td>\n",
       "      <td>0</td>\n",
       "      <td>0</td>\n",
       "      <td>0</td>\n",
       "      <td>0</td>\n",
       "      <td>0</td>\n",
       "    </tr>\n",
       "    <tr>\n",
       "      <th>85621</th>\n",
       "      <td>1</td>\n",
       "      <td>0</td>\n",
       "      <td>0</td>\n",
       "      <td>1</td>\n",
       "      <td>0</td>\n",
       "      <td>0</td>\n",
       "      <td>0</td>\n",
       "      <td>0</td>\n",
       "      <td>0</td>\n",
       "      <td>0</td>\n",
       "      <td>0</td>\n",
       "      <td>0</td>\n",
       "      <td>0</td>\n",
       "      <td>0</td>\n",
       "      <td>0</td>\n",
       "      <td>0</td>\n",
       "      <td>0</td>\n",
       "      <td>0</td>\n",
       "    </tr>\n",
       "    <tr>\n",
       "      <th>57471</th>\n",
       "      <td>1</td>\n",
       "      <td>0</td>\n",
       "      <td>0</td>\n",
       "      <td>0</td>\n",
       "      <td>0</td>\n",
       "      <td>1</td>\n",
       "      <td>0</td>\n",
       "      <td>0</td>\n",
       "      <td>0</td>\n",
       "      <td>0</td>\n",
       "      <td>0</td>\n",
       "      <td>0</td>\n",
       "      <td>0</td>\n",
       "      <td>0</td>\n",
       "      <td>0</td>\n",
       "      <td>0</td>\n",
       "      <td>0</td>\n",
       "      <td>0</td>\n",
       "    </tr>\n",
       "  </tbody>\n",
       "</table>\n",
       "</div>"
      ],
      "text/plain": [
       "        Procurement Category_CONSULTANT SERVICES  Procurement Category_GOODS  \\\n",
       "148405                                         1                           0   \n",
       "126069                                         0                           0   \n",
       "4038                                           1                           0   \n",
       "85621                                          1                           0   \n",
       "57471                                          1                           0   \n",
       "\n",
       "        Procurement Method_Direct Selection  \\\n",
       "148405                                    0   \n",
       "126069                                    0   \n",
       "4038                                      0   \n",
       "85621                                     0   \n",
       "57471                                     0   \n",
       "\n",
       "        Procurement Method_Individual Consultant Selection  \\\n",
       "148405                                                  1    \n",
       "126069                                                  0    \n",
       "4038                                                    0    \n",
       "85621                                                   1    \n",
       "57471                                                   0    \n",
       "\n",
       "        Procurement Method_International Competitive Bidding  \\\n",
       "148405                                                  0      \n",
       "126069                                                  0      \n",
       "4038                                                    0      \n",
       "85621                                                   0      \n",
       "57471                                                   0      \n",
       "\n",
       "        Procurement Method_Quality And Cost-Based Selection  \\\n",
       "148405                                                  0     \n",
       "126069                                                  0     \n",
       "4038                                                    0     \n",
       "85621                                                   0     \n",
       "57471                                                   1     \n",
       "\n",
       "        Procurement Method_Single Source Selection  \\\n",
       "148405                                           0   \n",
       "126069                                           0   \n",
       "4038                                             1   \n",
       "85621                                            0   \n",
       "57471                                            0   \n",
       "\n",
       "        Major Sector_(H)Health & social  Major Sector_Education  \\\n",
       "148405                                0                       0   \n",
       "126069                                1                       0   \n",
       "4038                                  0                       0   \n",
       "85621                                 0                       0   \n",
       "57471                                 0                       0   \n",
       "\n",
       "        Major Sector_Health  Major Sector_Transportation  \\\n",
       "148405                    0                            0   \n",
       "126069                    0                            0   \n",
       "4038                      0                            0   \n",
       "85621                     0                            0   \n",
       "57471                     0                            0   \n",
       "\n",
       "        Product line_Recipient Executed Activities  \\\n",
       "148405                                           1   \n",
       "126069                                           0   \n",
       "4038                                             0   \n",
       "85621                                            0   \n",
       "57471                                            0   \n",
       "\n",
       "        Procurement Type_Equipment, Medical  \\\n",
       "148405                                    0   \n",
       "126069                                    0   \n",
       "4038                                      0   \n",
       "85621                                     0   \n",
       "57471                                     0   \n",
       "\n",
       "        Procurement Type_Feasibility Studies  Procurement Type_Not assigned  \\\n",
       "148405                                     0                              0   \n",
       "126069                                     0                              0   \n",
       "4038                                       0                              0   \n",
       "85621                                      0                              0   \n",
       "57471                                      0                              0   \n",
       "\n",
       "        Procurement Type_Pharmaceuticals, Medical Products  \\\n",
       "148405                                                  0    \n",
       "126069                                                  0    \n",
       "4038                                                    0    \n",
       "85621                                                   0    \n",
       "57471                                                   0    \n",
       "\n",
       "        Procurement Type_Unidentified Works Type  July  \n",
       "148405                                         0     0  \n",
       "126069                                         0     0  \n",
       "4038                                           0     0  \n",
       "85621                                          0     0  \n",
       "57471                                          0     0  "
      ]
     },
     "execution_count": 63,
     "metadata": {},
     "output_type": "execute_result"
    }
   ],
   "source": [
    "X_train_k.head(5)"
   ]
  },
  {
   "cell_type": "code",
   "execution_count": 64,
   "metadata": {},
   "outputs": [
    {
     "data": {
      "text/plain": [
       "Index(['Procurement Category_CONSULTANT SERVICES',\n",
       "       'Procurement Category_GOODS', 'Procurement Method_Direct Selection',\n",
       "       'Procurement Method_Individual Consultant Selection',\n",
       "       'Procurement Method_International Competitive Bidding',\n",
       "       'Procurement Method_Quality And Cost-Based Selection',\n",
       "       'Procurement Method_Single Source Selection',\n",
       "       'Major Sector_(H)Health & social', 'Major Sector_Education',\n",
       "       'Major Sector_Health', 'Major Sector_Transportation',\n",
       "       'Product line_Recipient Executed Activities',\n",
       "       'Procurement Type_Equipment, Medical',\n",
       "       'Procurement Type_Feasibility Studies', 'Procurement Type_Not assigned',\n",
       "       'Procurement Type_Pharmaceuticals, Medical Products',\n",
       "       'Procurement Type_Unidentified Works Type', 'July'],\n",
       "      dtype='object')"
      ]
     },
     "execution_count": 64,
     "metadata": {},
     "output_type": "execute_result"
    }
   ],
   "source": [
    "X_train_k.columns"
   ]
  },
  {
   "cell_type": "markdown",
   "metadata": {},
   "source": [
    "## Correlation Analysis"
   ]
  },
  {
   "cell_type": "code",
   "execution_count": 91,
   "metadata": {},
   "outputs": [],
   "source": [
    "import matplotlib.pyplot as plt\n",
    "import seaborn as sns"
   ]
  },
  {
   "cell_type": "code",
   "execution_count": 92,
   "metadata": {},
   "outputs": [],
   "source": [
    "## Let me do a correlation on rebalanced training set \n",
    "CORR_resampled = X_train.join(Y_train)"
   ]
  },
  {
   "cell_type": "code",
   "execution_count": 93,
   "metadata": {},
   "outputs": [],
   "source": [
    "corrmat = CORR_resampled.corr()"
   ]
  },
  {
   "cell_type": "code",
   "execution_count": 94,
   "metadata": {},
   "outputs": [
    {
     "data": {
      "text/plain": [
       "<matplotlib.axes._subplots.AxesSubplot at 0x7fe9126134d0>"
      ]
     },
     "execution_count": 94,
     "metadata": {},
     "output_type": "execute_result"
    },
    {
     "data": {
      "image/png": "[encoded data removed]",
      "text/plain": [
       "<Figure size 864x720 with 2 Axes>"
      ]
     },
     "metadata": {
      "needs_background": "light"
     },
     "output_type": "display_data"
    }
   ],
   "source": [
    "# getting the variables that are highly correlated to match\n",
    "# k : number of variables for heatmap \n",
    "k = 8\n",
    "  \n",
    "cols = corrmat.nlargest(k, 'Match')['Match'].index \n",
    "  \n",
    "cm = np.corrcoef(CORR_resampled[cols].values.T) \n",
    "f, ax = plt.subplots(figsize =(12, 10)) \n",
    "  \n",
    "sns.heatmap(cm, ax = ax, annot = True, vmin=-1, vmax=1, center= 0, cmap= 'RdYlBu',\n",
    "            linewidths = 0.1, yticklabels = cols.values,  \n",
    "                              xticklabels = cols.values) "
   ]
  }
 ],
 "metadata": {
  "kernelspec": {
   "display_name": "Python 3",
   "language": "python",
   "name": "python3"
  },
  "language_info": {
   "codemirror_mode": {
    "name": "ipython",
    "version": 3
   },
   "file_extension": ".py",
   "mimetype": "text/x-python",
   "name": "python",
   "nbconvert_exporter": "python",
   "pygments_lexer": "ipython3",
   "version": "3.7.4"
  }
 },
 "nbformat": 4,
 "nbformat_minor": 4
}
